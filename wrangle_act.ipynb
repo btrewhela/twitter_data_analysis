{
 "cells": [
  {
   "cell_type": "markdown",
   "metadata": {},
   "source": [
    "# WeRateDogs Twitter Data Wrangling\n",
    "\n",
    "## Table of Contents\n",
    "<ul>\n",
    "<li><a href=\"#intro\">Data Gathering</a></li>\n",
    "<li><a href=\"#wrangling\">Data Assessment</a></li>\n",
    "<li><a href=\"#eda\">Data Cleaning</a></li>\n",
    "<li><a href=\"#conclusions\">Data Storing</a></li>\n",
    "</ul>"
   ]
  },
  {
   "cell_type": "code",
   "execution_count": 93,
   "metadata": {},
   "outputs": [],
   "source": [
    "#Libraries imported\n",
    "\n",
    "import pandas as pd\n",
    "import numpy as np\n",
    "import matplotlib.pyplot as plt\n",
    "import seaborn as sns\n",
    "import requests\n",
    "import os\n",
    "from bs4 import BeautifulSoup\n",
    "import tweepy as tw\n",
    "import json\n",
    "import glob\n",
    "import datetime as dt\n",
    "import re\n",
    "import seaborn as sns\n",
    "\n",
    "%matplotlib inline"
   ]
  },
  {
   "cell_type": "markdown",
   "metadata": {},
   "source": [
    "<a id='intro'></a>\n",
    "## Data Gathering\n",
    "\n",
    "In this project, we will gather data from three different sources in order to analyze and obtain insights from the WeRateDogs Twitter.\n",
    "\n",
    "First of all, the WeRateDogs twitter archive has been given to us and downloaded manually.\n"
   ]
  },
  {
   "cell_type": "code",
   "execution_count": 94,
   "metadata": {
    "scrolled": true
   },
   "outputs": [],
   "source": [
    "df_twitter_archive_enhanced = pd.read_csv(\"twitter-archive-enhanced.csv\")"
   ]
  },
  {
   "cell_type": "markdown",
   "metadata": {},
   "source": [
    "The second data set used is a file with tweet image predictions. This data is downloaded programmatically using it's URL."
   ]
  },
  {
   "cell_type": "code",
   "execution_count": 95,
   "metadata": {},
   "outputs": [],
   "source": [
    "data_url = 'https://d17h27t6h515a5.cloudfront.net/topher/2017/August/599fd2ad_image-predictions/image-predictions.tsv'\n",
    "\n",
    "response = requests.get(data_url)\n",
    "\n",
    "file = open('image-predictions.tsv', 'wb')\n",
    "\n",
    "file.write(response.content)\n",
    "\n",
    "file.close()"
   ]
  },
  {
   "cell_type": "markdown",
   "metadata": {},
   "source": [
    "In order to complement the twitter archive given, we will use the tweet IDs to query the Twitter API and extract each tweet's entire set of JSON data.\n",
    "\n",
    "First, let's extract the tweet IDs from the image predictions archive."
   ]
  },
  {
   "cell_type": "code",
   "execution_count": 96,
   "metadata": {},
   "outputs": [
    {
     "data": {
      "text/plain": [
       "Index(['tweet_id', 'jpg_url', 'img_num', 'p1', 'p1_conf', 'p1_dog', 'p2',\n",
       "       'p2_conf', 'p2_dog', 'p3', 'p3_conf', 'p3_dog'],\n",
       "      dtype='object')"
      ]
     },
     "metadata": {},
     "output_type": "display_data"
    },
    {
     "data": {
      "text/plain": [
       "'There are 2075 unique Tweet IDs'"
      ]
     },
     "metadata": {},
     "output_type": "display_data"
    }
   ],
   "source": [
    "df_image_preditions = pd.read_csv(\"image-predictions.tsv\", sep='\\t')\n",
    "\n",
    "display(df_image_preditions.columns)\n",
    "\n",
    "tweet_ids = df_image_preditions.tweet_id\n",
    "\n",
    "display(\"There are {} unique Tweet IDs\".format(len(tweet_ids.unique())))"
   ]
  },
  {
   "cell_type": "markdown",
   "metadata": {},
   "source": [
    "Now that we have the tweet IDs in the \"tweet_ids\" variable, we will query the Twitter API in the next cell."
   ]
  },
  {
   "cell_type": "code",
   "execution_count": 46,
   "metadata": {},
   "outputs": [
    {
     "name": "stdout",
     "output_type": "stream",
     "text": [
      "680055455951884288\n"
     ]
    },
    {
     "name": "stderr",
     "output_type": "stream",
     "text": [
      "Rate limit reached. Sleeping for: 79\n"
     ]
    },
    {
     "name": "stdout",
     "output_type": "stream",
     "text": [
      "754011816964026368\n",
      "759566828574212096\n",
      "771004394259247104\n",
      "779123168116150273\n",
      "802247111496568832\n",
      "829374341691346946\n"
     ]
    },
    {
     "name": "stderr",
     "output_type": "stream",
     "text": [
      "Rate limit reached. Sleeping for: 11\n"
     ]
    },
    {
     "name": "stdout",
     "output_type": "stream",
     "text": [
      "837012587749474308\n",
      "837366284874571778\n",
      "842892208864923648\n",
      "844704788403113984\n",
      "851953902622658560\n",
      "861769973181624320\n",
      "872261713294495745\n",
      "873697596434513921\n",
      "888202515573088257\n"
     ]
    }
   ],
   "source": [
    "twitter_keys = {\n",
    "        'consumer_key':        '',\n",
    "        'consumer_secret':     '',\n",
    "        'access_token_key':    '',\n",
    "        'access_token_secret': ''\n",
    "    }\n",
    "\n",
    "#Setup access to API\n",
    "auth = tw.OAuthHandler(twitter_keys['consumer_key'], twitter_keys['consumer_secret'])\n",
    "auth.set_access_token(twitter_keys['access_token_key'], twitter_keys['access_token_secret'])\n",
    "\n",
    "#Connect to the API using rate limits to query\n",
    "api = tw.API(auth, wait_on_rate_limit=True, wait_on_rate_limit_notify=True)\n",
    "\n",
    "filename = 'tweet_json.txt'\n",
    "\n",
    "not_available = []\n",
    "\n",
    "#Create .txt file with Tweet JSONs\n",
    "with open(filename, 'w') as outfile:\n",
    "    for i in tweet_ids:\n",
    "        try:\n",
    "            #Get the data as JSON\n",
    "            status = api.get_status(str(i))\n",
    "            json_str = json.dumps(status._json)\n",
    "            #Add each JSON data into a new line\n",
    "            outfile.write(\"%s\\n\" % json_str)\n",
    "        except tw.TweepError:\n",
    "            #If there is an error with the tweet ID, print and save it in a list\n",
    "            not_available.append(str(i))\n",
    "            print(str(i))\n"
   ]
  },
  {
   "cell_type": "markdown",
   "metadata": {},
   "source": [
    "Then, we will read this .txt file line by line and export it into a pandas DataFrame with tweet ID, retweet count, and favorite count. In order to locate this parameters in the JSON data entries easier, we will define the following function that prints that type of data in a much easier form."
   ]
  },
  {
   "cell_type": "code",
   "execution_count": 97,
   "metadata": {},
   "outputs": [],
   "source": [
    "def jprint(obj):\n",
    "    text = json.dumps(obj, sort_keys = True, indent = 6)\n",
    "    return text"
   ]
  },
  {
   "cell_type": "markdown",
   "metadata": {},
   "source": [
    "The next cell is used to create a dataframe of the tweet parameters used."
   ]
  },
  {
   "cell_type": "code",
   "execution_count": 98,
   "metadata": {},
   "outputs": [
    {
     "data": {
      "text/html": [
       "<div>\n",
       "<style scoped>\n",
       "    .dataframe tbody tr th:only-of-type {\n",
       "        vertical-align: middle;\n",
       "    }\n",
       "\n",
       "    .dataframe tbody tr th {\n",
       "        vertical-align: top;\n",
       "    }\n",
       "\n",
       "    .dataframe thead th {\n",
       "        text-align: right;\n",
       "    }\n",
       "</style>\n",
       "<table border=\"1\" class=\"dataframe\">\n",
       "  <thead>\n",
       "    <tr style=\"text-align: right;\">\n",
       "      <th></th>\n",
       "      <th>tweet_id</th>\n",
       "      <th>retweet_count</th>\n",
       "      <th>favorite_count</th>\n",
       "    </tr>\n",
       "  </thead>\n",
       "  <tbody>\n",
       "    <tr>\n",
       "      <td>0</td>\n",
       "      <td>666020888022790149</td>\n",
       "      <td>443</td>\n",
       "      <td>2343</td>\n",
       "    </tr>\n",
       "    <tr>\n",
       "      <td>1</td>\n",
       "      <td>666029285002620928</td>\n",
       "      <td>41</td>\n",
       "      <td>118</td>\n",
       "    </tr>\n",
       "    <tr>\n",
       "      <td>2</td>\n",
       "      <td>666033412701032449</td>\n",
       "      <td>39</td>\n",
       "      <td>107</td>\n",
       "    </tr>\n",
       "    <tr>\n",
       "      <td>3</td>\n",
       "      <td>666044226329800704</td>\n",
       "      <td>122</td>\n",
       "      <td>259</td>\n",
       "    </tr>\n",
       "    <tr>\n",
       "      <td>4</td>\n",
       "      <td>666049248165822465</td>\n",
       "      <td>38</td>\n",
       "      <td>93</td>\n",
       "    </tr>\n",
       "  </tbody>\n",
       "</table>\n",
       "</div>"
      ],
      "text/plain": [
       "             tweet_id  retweet_count  favorite_count\n",
       "0  666020888022790149            443            2343\n",
       "1  666029285002620928             41             118\n",
       "2  666033412701032449             39             107\n",
       "3  666044226329800704            122             259\n",
       "4  666049248165822465             38              93"
      ]
     },
     "metadata": {},
     "output_type": "display_data"
    },
    {
     "name": "stdout",
     "output_type": "stream",
     "text": [
      "<class 'pandas.core.frame.DataFrame'>\n",
      "RangeIndex: 2059 entries, 0 to 2058\n",
      "Data columns (total 3 columns):\n",
      "tweet_id          2059 non-null object\n",
      "retweet_count     2059 non-null int64\n",
      "favorite_count    2059 non-null int64\n",
      "dtypes: int64(2), object(1)\n",
      "memory usage: 48.4+ KB\n"
     ]
    },
    {
     "data": {
      "text/plain": [
       "None"
      ]
     },
     "metadata": {},
     "output_type": "display_data"
    }
   ],
   "source": [
    "filename = 'tweet_json.txt'\n",
    "\n",
    "#Create a new DataFrame\n",
    "\n",
    "df_list = []\n",
    "\n",
    "#Open JSON File line by line\n",
    "with open(filename, 'r') as openfile:\n",
    "    for line in openfile:\n",
    "        #Read each line as dictionary\n",
    "        json_object = json.loads(line)\n",
    "        #print(jprint(json_object))\n",
    "        #Assign the needed parameters to variables\n",
    "        ids = json_object['id_str']\n",
    "        retweet_count = json_object['retweet_count']\n",
    "        favorite_count = json_object['favorite_count']\n",
    "        #Add variables to the new dataframe\n",
    "        df_list.append({'tweet_id': ids,\n",
    "                       'retweet_count': retweet_count,\n",
    "                       'favorite_count': favorite_count})\n",
    "        \n",
    "df_tweet_json = pd.DataFrame(df_list, columns=['tweet_id', 'retweet_count', 'favorite_count'])\n",
    "\n",
    "display(df_tweet_json.head())\n",
    "display(df_tweet_json.info())"
   ]
  },
  {
   "cell_type": "markdown",
   "metadata": {},
   "source": [
    "<a id='wrangling'></a>\n",
    "## Data Assessment\n",
    "\n",
    "In this section we will assess the gathered data visually and programatically for quality and tidiness issues.\n",
    "\n",
    "\n",
    "### Quality Issues\n",
    "\n",
    "First, let's take a look in the twitter-archive-enhanced data."
   ]
  },
  {
   "cell_type": "code",
   "execution_count": 99,
   "metadata": {},
   "outputs": [
    {
     "data": {
      "text/html": [
       "<div>\n",
       "<style scoped>\n",
       "    .dataframe tbody tr th:only-of-type {\n",
       "        vertical-align: middle;\n",
       "    }\n",
       "\n",
       "    .dataframe tbody tr th {\n",
       "        vertical-align: top;\n",
       "    }\n",
       "\n",
       "    .dataframe thead th {\n",
       "        text-align: right;\n",
       "    }\n",
       "</style>\n",
       "<table border=\"1\" class=\"dataframe\">\n",
       "  <thead>\n",
       "    <tr style=\"text-align: right;\">\n",
       "      <th></th>\n",
       "      <th>tweet_id</th>\n",
       "      <th>in_reply_to_status_id</th>\n",
       "      <th>in_reply_to_user_id</th>\n",
       "      <th>timestamp</th>\n",
       "      <th>source</th>\n",
       "      <th>text</th>\n",
       "      <th>retweeted_status_id</th>\n",
       "      <th>retweeted_status_user_id</th>\n",
       "      <th>retweeted_status_timestamp</th>\n",
       "      <th>expanded_urls</th>\n",
       "      <th>rating_numerator</th>\n",
       "      <th>rating_denominator</th>\n",
       "      <th>name</th>\n",
       "      <th>doggo</th>\n",
       "      <th>floofer</th>\n",
       "      <th>pupper</th>\n",
       "      <th>puppo</th>\n",
       "    </tr>\n",
       "  </thead>\n",
       "  <tbody>\n",
       "    <tr>\n",
       "      <td>0</td>\n",
       "      <td>892420643555336193</td>\n",
       "      <td>NaN</td>\n",
       "      <td>NaN</td>\n",
       "      <td>2017-08-01 16:23:56 +0000</td>\n",
       "      <td>&lt;a href=\"http://twitter.com/download/iphone\" r...</td>\n",
       "      <td>This is Phineas. He's a mystical boy. Only eve...</td>\n",
       "      <td>NaN</td>\n",
       "      <td>NaN</td>\n",
       "      <td>NaN</td>\n",
       "      <td>https://twitter.com/dog_rates/status/892420643...</td>\n",
       "      <td>13</td>\n",
       "      <td>10</td>\n",
       "      <td>Phineas</td>\n",
       "      <td>None</td>\n",
       "      <td>None</td>\n",
       "      <td>None</td>\n",
       "      <td>None</td>\n",
       "    </tr>\n",
       "    <tr>\n",
       "      <td>1</td>\n",
       "      <td>892177421306343426</td>\n",
       "      <td>NaN</td>\n",
       "      <td>NaN</td>\n",
       "      <td>2017-08-01 00:17:27 +0000</td>\n",
       "      <td>&lt;a href=\"http://twitter.com/download/iphone\" r...</td>\n",
       "      <td>This is Tilly. She's just checking pup on you....</td>\n",
       "      <td>NaN</td>\n",
       "      <td>NaN</td>\n",
       "      <td>NaN</td>\n",
       "      <td>https://twitter.com/dog_rates/status/892177421...</td>\n",
       "      <td>13</td>\n",
       "      <td>10</td>\n",
       "      <td>Tilly</td>\n",
       "      <td>None</td>\n",
       "      <td>None</td>\n",
       "      <td>None</td>\n",
       "      <td>None</td>\n",
       "    </tr>\n",
       "    <tr>\n",
       "      <td>2</td>\n",
       "      <td>891815181378084864</td>\n",
       "      <td>NaN</td>\n",
       "      <td>NaN</td>\n",
       "      <td>2017-07-31 00:18:03 +0000</td>\n",
       "      <td>&lt;a href=\"http://twitter.com/download/iphone\" r...</td>\n",
       "      <td>This is Archie. He is a rare Norwegian Pouncin...</td>\n",
       "      <td>NaN</td>\n",
       "      <td>NaN</td>\n",
       "      <td>NaN</td>\n",
       "      <td>https://twitter.com/dog_rates/status/891815181...</td>\n",
       "      <td>12</td>\n",
       "      <td>10</td>\n",
       "      <td>Archie</td>\n",
       "      <td>None</td>\n",
       "      <td>None</td>\n",
       "      <td>None</td>\n",
       "      <td>None</td>\n",
       "    </tr>\n",
       "    <tr>\n",
       "      <td>3</td>\n",
       "      <td>891689557279858688</td>\n",
       "      <td>NaN</td>\n",
       "      <td>NaN</td>\n",
       "      <td>2017-07-30 15:58:51 +0000</td>\n",
       "      <td>&lt;a href=\"http://twitter.com/download/iphone\" r...</td>\n",
       "      <td>This is Darla. She commenced a snooze mid meal...</td>\n",
       "      <td>NaN</td>\n",
       "      <td>NaN</td>\n",
       "      <td>NaN</td>\n",
       "      <td>https://twitter.com/dog_rates/status/891689557...</td>\n",
       "      <td>13</td>\n",
       "      <td>10</td>\n",
       "      <td>Darla</td>\n",
       "      <td>None</td>\n",
       "      <td>None</td>\n",
       "      <td>None</td>\n",
       "      <td>None</td>\n",
       "    </tr>\n",
       "    <tr>\n",
       "      <td>4</td>\n",
       "      <td>891327558926688256</td>\n",
       "      <td>NaN</td>\n",
       "      <td>NaN</td>\n",
       "      <td>2017-07-29 16:00:24 +0000</td>\n",
       "      <td>&lt;a href=\"http://twitter.com/download/iphone\" r...</td>\n",
       "      <td>This is Franklin. He would like you to stop ca...</td>\n",
       "      <td>NaN</td>\n",
       "      <td>NaN</td>\n",
       "      <td>NaN</td>\n",
       "      <td>https://twitter.com/dog_rates/status/891327558...</td>\n",
       "      <td>12</td>\n",
       "      <td>10</td>\n",
       "      <td>Franklin</td>\n",
       "      <td>None</td>\n",
       "      <td>None</td>\n",
       "      <td>None</td>\n",
       "      <td>None</td>\n",
       "    </tr>\n",
       "    <tr>\n",
       "      <td>...</td>\n",
       "      <td>...</td>\n",
       "      <td>...</td>\n",
       "      <td>...</td>\n",
       "      <td>...</td>\n",
       "      <td>...</td>\n",
       "      <td>...</td>\n",
       "      <td>...</td>\n",
       "      <td>...</td>\n",
       "      <td>...</td>\n",
       "      <td>...</td>\n",
       "      <td>...</td>\n",
       "      <td>...</td>\n",
       "      <td>...</td>\n",
       "      <td>...</td>\n",
       "      <td>...</td>\n",
       "      <td>...</td>\n",
       "      <td>...</td>\n",
       "    </tr>\n",
       "    <tr>\n",
       "      <td>2351</td>\n",
       "      <td>666049248165822465</td>\n",
       "      <td>NaN</td>\n",
       "      <td>NaN</td>\n",
       "      <td>2015-11-16 00:24:50 +0000</td>\n",
       "      <td>&lt;a href=\"http://twitter.com/download/iphone\" r...</td>\n",
       "      <td>Here we have a 1949 1st generation vulpix. Enj...</td>\n",
       "      <td>NaN</td>\n",
       "      <td>NaN</td>\n",
       "      <td>NaN</td>\n",
       "      <td>https://twitter.com/dog_rates/status/666049248...</td>\n",
       "      <td>5</td>\n",
       "      <td>10</td>\n",
       "      <td>None</td>\n",
       "      <td>None</td>\n",
       "      <td>None</td>\n",
       "      <td>None</td>\n",
       "      <td>None</td>\n",
       "    </tr>\n",
       "    <tr>\n",
       "      <td>2352</td>\n",
       "      <td>666044226329800704</td>\n",
       "      <td>NaN</td>\n",
       "      <td>NaN</td>\n",
       "      <td>2015-11-16 00:04:52 +0000</td>\n",
       "      <td>&lt;a href=\"http://twitter.com/download/iphone\" r...</td>\n",
       "      <td>This is a purebred Piers Morgan. Loves to Netf...</td>\n",
       "      <td>NaN</td>\n",
       "      <td>NaN</td>\n",
       "      <td>NaN</td>\n",
       "      <td>https://twitter.com/dog_rates/status/666044226...</td>\n",
       "      <td>6</td>\n",
       "      <td>10</td>\n",
       "      <td>a</td>\n",
       "      <td>None</td>\n",
       "      <td>None</td>\n",
       "      <td>None</td>\n",
       "      <td>None</td>\n",
       "    </tr>\n",
       "    <tr>\n",
       "      <td>2353</td>\n",
       "      <td>666033412701032449</td>\n",
       "      <td>NaN</td>\n",
       "      <td>NaN</td>\n",
       "      <td>2015-11-15 23:21:54 +0000</td>\n",
       "      <td>&lt;a href=\"http://twitter.com/download/iphone\" r...</td>\n",
       "      <td>Here is a very happy pup. Big fan of well-main...</td>\n",
       "      <td>NaN</td>\n",
       "      <td>NaN</td>\n",
       "      <td>NaN</td>\n",
       "      <td>https://twitter.com/dog_rates/status/666033412...</td>\n",
       "      <td>9</td>\n",
       "      <td>10</td>\n",
       "      <td>a</td>\n",
       "      <td>None</td>\n",
       "      <td>None</td>\n",
       "      <td>None</td>\n",
       "      <td>None</td>\n",
       "    </tr>\n",
       "    <tr>\n",
       "      <td>2354</td>\n",
       "      <td>666029285002620928</td>\n",
       "      <td>NaN</td>\n",
       "      <td>NaN</td>\n",
       "      <td>2015-11-15 23:05:30 +0000</td>\n",
       "      <td>&lt;a href=\"http://twitter.com/download/iphone\" r...</td>\n",
       "      <td>This is a western brown Mitsubishi terrier. Up...</td>\n",
       "      <td>NaN</td>\n",
       "      <td>NaN</td>\n",
       "      <td>NaN</td>\n",
       "      <td>https://twitter.com/dog_rates/status/666029285...</td>\n",
       "      <td>7</td>\n",
       "      <td>10</td>\n",
       "      <td>a</td>\n",
       "      <td>None</td>\n",
       "      <td>None</td>\n",
       "      <td>None</td>\n",
       "      <td>None</td>\n",
       "    </tr>\n",
       "    <tr>\n",
       "      <td>2355</td>\n",
       "      <td>666020888022790149</td>\n",
       "      <td>NaN</td>\n",
       "      <td>NaN</td>\n",
       "      <td>2015-11-15 22:32:08 +0000</td>\n",
       "      <td>&lt;a href=\"http://twitter.com/download/iphone\" r...</td>\n",
       "      <td>Here we have a Japanese Irish Setter. Lost eye...</td>\n",
       "      <td>NaN</td>\n",
       "      <td>NaN</td>\n",
       "      <td>NaN</td>\n",
       "      <td>https://twitter.com/dog_rates/status/666020888...</td>\n",
       "      <td>8</td>\n",
       "      <td>10</td>\n",
       "      <td>None</td>\n",
       "      <td>None</td>\n",
       "      <td>None</td>\n",
       "      <td>None</td>\n",
       "      <td>None</td>\n",
       "    </tr>\n",
       "  </tbody>\n",
       "</table>\n",
       "<p>2356 rows × 17 columns</p>\n",
       "</div>"
      ],
      "text/plain": [
       "                tweet_id  in_reply_to_status_id  in_reply_to_user_id  \\\n",
       "0     892420643555336193                    NaN                  NaN   \n",
       "1     892177421306343426                    NaN                  NaN   \n",
       "2     891815181378084864                    NaN                  NaN   \n",
       "3     891689557279858688                    NaN                  NaN   \n",
       "4     891327558926688256                    NaN                  NaN   \n",
       "...                  ...                    ...                  ...   \n",
       "2351  666049248165822465                    NaN                  NaN   \n",
       "2352  666044226329800704                    NaN                  NaN   \n",
       "2353  666033412701032449                    NaN                  NaN   \n",
       "2354  666029285002620928                    NaN                  NaN   \n",
       "2355  666020888022790149                    NaN                  NaN   \n",
       "\n",
       "                      timestamp  \\\n",
       "0     2017-08-01 16:23:56 +0000   \n",
       "1     2017-08-01 00:17:27 +0000   \n",
       "2     2017-07-31 00:18:03 +0000   \n",
       "3     2017-07-30 15:58:51 +0000   \n",
       "4     2017-07-29 16:00:24 +0000   \n",
       "...                         ...   \n",
       "2351  2015-11-16 00:24:50 +0000   \n",
       "2352  2015-11-16 00:04:52 +0000   \n",
       "2353  2015-11-15 23:21:54 +0000   \n",
       "2354  2015-11-15 23:05:30 +0000   \n",
       "2355  2015-11-15 22:32:08 +0000   \n",
       "\n",
       "                                                 source  \\\n",
       "0     <a href=\"http://twitter.com/download/iphone\" r...   \n",
       "1     <a href=\"http://twitter.com/download/iphone\" r...   \n",
       "2     <a href=\"http://twitter.com/download/iphone\" r...   \n",
       "3     <a href=\"http://twitter.com/download/iphone\" r...   \n",
       "4     <a href=\"http://twitter.com/download/iphone\" r...   \n",
       "...                                                 ...   \n",
       "2351  <a href=\"http://twitter.com/download/iphone\" r...   \n",
       "2352  <a href=\"http://twitter.com/download/iphone\" r...   \n",
       "2353  <a href=\"http://twitter.com/download/iphone\" r...   \n",
       "2354  <a href=\"http://twitter.com/download/iphone\" r...   \n",
       "2355  <a href=\"http://twitter.com/download/iphone\" r...   \n",
       "\n",
       "                                                   text  retweeted_status_id  \\\n",
       "0     This is Phineas. He's a mystical boy. Only eve...                  NaN   \n",
       "1     This is Tilly. She's just checking pup on you....                  NaN   \n",
       "2     This is Archie. He is a rare Norwegian Pouncin...                  NaN   \n",
       "3     This is Darla. She commenced a snooze mid meal...                  NaN   \n",
       "4     This is Franklin. He would like you to stop ca...                  NaN   \n",
       "...                                                 ...                  ...   \n",
       "2351  Here we have a 1949 1st generation vulpix. Enj...                  NaN   \n",
       "2352  This is a purebred Piers Morgan. Loves to Netf...                  NaN   \n",
       "2353  Here is a very happy pup. Big fan of well-main...                  NaN   \n",
       "2354  This is a western brown Mitsubishi terrier. Up...                  NaN   \n",
       "2355  Here we have a Japanese Irish Setter. Lost eye...                  NaN   \n",
       "\n",
       "      retweeted_status_user_id retweeted_status_timestamp  \\\n",
       "0                          NaN                        NaN   \n",
       "1                          NaN                        NaN   \n",
       "2                          NaN                        NaN   \n",
       "3                          NaN                        NaN   \n",
       "4                          NaN                        NaN   \n",
       "...                        ...                        ...   \n",
       "2351                       NaN                        NaN   \n",
       "2352                       NaN                        NaN   \n",
       "2353                       NaN                        NaN   \n",
       "2354                       NaN                        NaN   \n",
       "2355                       NaN                        NaN   \n",
       "\n",
       "                                          expanded_urls  rating_numerator  \\\n",
       "0     https://twitter.com/dog_rates/status/892420643...                13   \n",
       "1     https://twitter.com/dog_rates/status/892177421...                13   \n",
       "2     https://twitter.com/dog_rates/status/891815181...                12   \n",
       "3     https://twitter.com/dog_rates/status/891689557...                13   \n",
       "4     https://twitter.com/dog_rates/status/891327558...                12   \n",
       "...                                                 ...               ...   \n",
       "2351  https://twitter.com/dog_rates/status/666049248...                 5   \n",
       "2352  https://twitter.com/dog_rates/status/666044226...                 6   \n",
       "2353  https://twitter.com/dog_rates/status/666033412...                 9   \n",
       "2354  https://twitter.com/dog_rates/status/666029285...                 7   \n",
       "2355  https://twitter.com/dog_rates/status/666020888...                 8   \n",
       "\n",
       "      rating_denominator      name doggo floofer pupper puppo  \n",
       "0                     10   Phineas  None    None   None  None  \n",
       "1                     10     Tilly  None    None   None  None  \n",
       "2                     10    Archie  None    None   None  None  \n",
       "3                     10     Darla  None    None   None  None  \n",
       "4                     10  Franklin  None    None   None  None  \n",
       "...                  ...       ...   ...     ...    ...   ...  \n",
       "2351                  10      None  None    None   None  None  \n",
       "2352                  10         a  None    None   None  None  \n",
       "2353                  10         a  None    None   None  None  \n",
       "2354                  10         a  None    None   None  None  \n",
       "2355                  10      None  None    None   None  None  \n",
       "\n",
       "[2356 rows x 17 columns]"
      ]
     },
     "metadata": {},
     "output_type": "display_data"
    },
    {
     "name": "stdout",
     "output_type": "stream",
     "text": [
      "The raw data contains 2356 rows and 17 columns.\n"
     ]
    }
   ],
   "source": [
    "#Reading the data.\n",
    "\n",
    "df_twitter_archive_enhanced = pd.read_csv(\"twitter-archive-enhanced.csv\")\n",
    "\n",
    "#General description of a dataset.\n",
    "\n",
    "display(df_twitter_archive_enhanced)\n",
    "\n",
    "print(\"The raw data contains {} rows and {} columns.\".format(df_twitter_archive_enhanced.shape[0],df_twitter_archive_enhanced.shape[1]))"
   ]
  },
  {
   "cell_type": "markdown",
   "metadata": {},
   "source": [
    "As we can see in the following cell, there are quality issues with this data set."
   ]
  },
  {
   "cell_type": "code",
   "execution_count": 100,
   "metadata": {},
   "outputs": [
    {
     "name": "stdout",
     "output_type": "stream",
     "text": [
      "<class 'pandas.core.frame.DataFrame'>\n",
      "RangeIndex: 2356 entries, 0 to 2355\n",
      "Data columns (total 17 columns):\n",
      "tweet_id                      2356 non-null int64\n",
      "in_reply_to_status_id         78 non-null float64\n",
      "in_reply_to_user_id           78 non-null float64\n",
      "timestamp                     2356 non-null object\n",
      "source                        2356 non-null object\n",
      "text                          2356 non-null object\n",
      "retweeted_status_id           181 non-null float64\n",
      "retweeted_status_user_id      181 non-null float64\n",
      "retweeted_status_timestamp    181 non-null object\n",
      "expanded_urls                 2297 non-null object\n",
      "rating_numerator              2356 non-null int64\n",
      "rating_denominator            2356 non-null int64\n",
      "name                          2356 non-null object\n",
      "doggo                         2356 non-null object\n",
      "floofer                       2356 non-null object\n",
      "pupper                        2356 non-null object\n",
      "puppo                         2356 non-null object\n",
      "dtypes: float64(4), int64(3), object(10)\n",
      "memory usage: 313.0+ KB\n"
     ]
    },
    {
     "data": {
      "text/plain": [
       "None"
      ]
     },
     "metadata": {},
     "output_type": "display_data"
    }
   ],
   "source": [
    "display(df_twitter_archive_enhanced.info())"
   ]
  },
  {
   "cell_type": "code",
   "execution_count": 101,
   "metadata": {},
   "outputs": [
    {
     "data": {
      "text/html": [
       "<div>\n",
       "<style scoped>\n",
       "    .dataframe tbody tr th:only-of-type {\n",
       "        vertical-align: middle;\n",
       "    }\n",
       "\n",
       "    .dataframe tbody tr th {\n",
       "        vertical-align: top;\n",
       "    }\n",
       "\n",
       "    .dataframe thead th {\n",
       "        text-align: right;\n",
       "    }\n",
       "</style>\n",
       "<table border=\"1\" class=\"dataframe\">\n",
       "  <thead>\n",
       "    <tr style=\"text-align: right;\">\n",
       "      <th></th>\n",
       "      <th>rating_numerator</th>\n",
       "      <th>rating_denominator</th>\n",
       "    </tr>\n",
       "  </thead>\n",
       "  <tbody>\n",
       "    <tr>\n",
       "      <td>count</td>\n",
       "      <td>2356.000000</td>\n",
       "      <td>2356.000000</td>\n",
       "    </tr>\n",
       "    <tr>\n",
       "      <td>mean</td>\n",
       "      <td>13.126486</td>\n",
       "      <td>10.455433</td>\n",
       "    </tr>\n",
       "    <tr>\n",
       "      <td>std</td>\n",
       "      <td>45.876648</td>\n",
       "      <td>6.745237</td>\n",
       "    </tr>\n",
       "    <tr>\n",
       "      <td>min</td>\n",
       "      <td>0.000000</td>\n",
       "      <td>0.000000</td>\n",
       "    </tr>\n",
       "    <tr>\n",
       "      <td>25%</td>\n",
       "      <td>10.000000</td>\n",
       "      <td>10.000000</td>\n",
       "    </tr>\n",
       "    <tr>\n",
       "      <td>50%</td>\n",
       "      <td>11.000000</td>\n",
       "      <td>10.000000</td>\n",
       "    </tr>\n",
       "    <tr>\n",
       "      <td>75%</td>\n",
       "      <td>12.000000</td>\n",
       "      <td>10.000000</td>\n",
       "    </tr>\n",
       "    <tr>\n",
       "      <td>max</td>\n",
       "      <td>1776.000000</td>\n",
       "      <td>170.000000</td>\n",
       "    </tr>\n",
       "  </tbody>\n",
       "</table>\n",
       "</div>"
      ],
      "text/plain": [
       "       rating_numerator  rating_denominator\n",
       "count       2356.000000         2356.000000\n",
       "mean          13.126486           10.455433\n",
       "std           45.876648            6.745237\n",
       "min            0.000000            0.000000\n",
       "25%           10.000000           10.000000\n",
       "50%           11.000000           10.000000\n",
       "75%           12.000000           10.000000\n",
       "max         1776.000000          170.000000"
      ]
     },
     "metadata": {},
     "output_type": "display_data"
    }
   ],
   "source": [
    "display(df_twitter_archive_enhanced[['rating_numerator', 'rating_denominator']].describe())"
   ]
  },
  {
   "cell_type": "markdown",
   "metadata": {},
   "source": [
    "1. The data set contains 78 tweet replies (\"in_reply_to_status_id\" and \"in_reply_to_user_id\" columns). \n",
    "2. There are 181 retweets (\"retweeted_status_id\", \"retweeted_status_user_id\", \"retweeted_status_timestamp\").\n",
    "3. Column name \"expanded_urls\" is not descriptive enough as it determines whether the tweet has an image attached or not.\n",
    "4. There are 2356-2297=59 tweets without images.\n",
    "5. \"timestamp\" column data type should be datetime. We could also generate additional columns (year, month, day) in order to make better insights.\n",
    "6. Column \"tweet_id\" data type should be treated as string as there are no numerical relationships between ids.\n",
    "7. Tweet \"text\" column contains the URL of the tweet, which can cause problems during text analysis.\n",
    "8. Ratings could be wrong, specially when there are multiple ratings per tweet.\n",
    "9. Dog stages categorization could be wrong. "
   ]
  },
  {
   "cell_type": "markdown",
   "metadata": {},
   "source": [
    "### Tidiness Issues\n",
    "\n",
    "The detected tidiness issues are the following:\n",
    "    \n",
    "1. \"expanded_urls\" column has multiple values in each row separated by commas.\n",
    "2. Dog categorization variable is represented as 4 columns. We can collapse all 4 columns into a single one as it is only one variable.\n",
    "3. All three data sets should be merged by \"tweet_id\" into a single database for further analysis.\n"
   ]
  },
  {
   "cell_type": "code",
   "execution_count": 102,
   "metadata": {},
   "outputs": [
    {
     "name": "stdout",
     "output_type": "stream",
     "text": [
      "https://twitter.com/dog_rates/status/890006608113172480/photo/1,https://twitter.com/dog_rates/status/890006608113172480/photo/1\n"
     ]
    }
   ],
   "source": [
    "print(df_twitter_archive_enhanced[\"expanded_urls\"][10])"
   ]
  },
  {
   "cell_type": "markdown",
   "metadata": {},
   "source": [
    "<a id='wrangling'></a>\n",
    "## Data Cleaning\n",
    "\n",
    "In this section we will clean the gathered data programatically to improve quality and tidiness.\n",
    "\n",
    "First, it is recommended to make a copy of each dataframe."
   ]
  },
  {
   "cell_type": "code",
   "execution_count": 103,
   "metadata": {},
   "outputs": [],
   "source": [
    "df_clean_enhanced = df_twitter_archive_enhanced.copy()\n",
    "\n",
    "df_clean_image = df_image_preditions.copy()\n",
    "\n",
    "df_clean_json = df_tweet_json.copy()"
   ]
  },
  {
   "cell_type": "markdown",
   "metadata": {},
   "source": [
    "### Quality Issues\n",
    "\n",
    "1. To clean the tweet replies issues, we suggest to filter the column by the null values in the \"in_reply_to_status_id\" column."
   ]
  },
  {
   "cell_type": "code",
   "execution_count": 104,
   "metadata": {},
   "outputs": [
    {
     "name": "stdout",
     "output_type": "stream",
     "text": [
      "<class 'pandas.core.frame.DataFrame'>\n",
      "Int64Index: 2278 entries, 0 to 2355\n",
      "Data columns (total 17 columns):\n",
      "tweet_id                      2278 non-null int64\n",
      "in_reply_to_status_id         0 non-null float64\n",
      "in_reply_to_user_id           0 non-null float64\n",
      "timestamp                     2278 non-null object\n",
      "source                        2278 non-null object\n",
      "text                          2278 non-null object\n",
      "retweeted_status_id           181 non-null float64\n",
      "retweeted_status_user_id      181 non-null float64\n",
      "retweeted_status_timestamp    181 non-null object\n",
      "expanded_urls                 2274 non-null object\n",
      "rating_numerator              2278 non-null int64\n",
      "rating_denominator            2278 non-null int64\n",
      "name                          2278 non-null object\n",
      "doggo                         2278 non-null object\n",
      "floofer                       2278 non-null object\n",
      "pupper                        2278 non-null object\n",
      "puppo                         2278 non-null object\n",
      "dtypes: float64(4), int64(3), object(10)\n",
      "memory usage: 320.3+ KB\n"
     ]
    },
    {
     "data": {
      "text/plain": [
       "None"
      ]
     },
     "metadata": {},
     "output_type": "display_data"
    }
   ],
   "source": [
    "df_clean_enhanced = df_clean_enhanced[df_clean_enhanced['in_reply_to_status_id'].isnull()]\n",
    "\n",
    "display(df_clean_enhanced.info())"
   ]
  },
  {
   "cell_type": "markdown",
   "metadata": {},
   "source": [
    "2. To clean the retweets, we suggest to filter the column by the null values in the \"retweeted_status_id\" column."
   ]
  },
  {
   "cell_type": "code",
   "execution_count": 105,
   "metadata": {},
   "outputs": [
    {
     "name": "stdout",
     "output_type": "stream",
     "text": [
      "<class 'pandas.core.frame.DataFrame'>\n",
      "Int64Index: 2097 entries, 0 to 2355\n",
      "Data columns (total 17 columns):\n",
      "tweet_id                      2097 non-null int64\n",
      "in_reply_to_status_id         0 non-null float64\n",
      "in_reply_to_user_id           0 non-null float64\n",
      "timestamp                     2097 non-null object\n",
      "source                        2097 non-null object\n",
      "text                          2097 non-null object\n",
      "retweeted_status_id           0 non-null float64\n",
      "retweeted_status_user_id      0 non-null float64\n",
      "retweeted_status_timestamp    0 non-null object\n",
      "expanded_urls                 2094 non-null object\n",
      "rating_numerator              2097 non-null int64\n",
      "rating_denominator            2097 non-null int64\n",
      "name                          2097 non-null object\n",
      "doggo                         2097 non-null object\n",
      "floofer                       2097 non-null object\n",
      "pupper                        2097 non-null object\n",
      "puppo                         2097 non-null object\n",
      "dtypes: float64(4), int64(3), object(10)\n",
      "memory usage: 294.9+ KB\n"
     ]
    },
    {
     "data": {
      "text/plain": [
       "None"
      ]
     },
     "metadata": {},
     "output_type": "display_data"
    }
   ],
   "source": [
    "df_clean_enhanced = df_clean_enhanced[df_clean_enhanced['retweeted_status_id'].isnull()]\n",
    "\n",
    "display(df_clean_enhanced.info())"
   ]
  },
  {
   "cell_type": "markdown",
   "metadata": {},
   "source": [
    "3. To make the \"expanded_urls\" column name more descriptive, we suggest to change it to \"image_urls\"."
   ]
  },
  {
   "cell_type": "code",
   "execution_count": 106,
   "metadata": {},
   "outputs": [],
   "source": [
    "df_clean_enhanced = df_clean_enhanced.rename(columns={'expanded_urls': 'image_urls'})"
   ]
  },
  {
   "cell_type": "markdown",
   "metadata": {},
   "source": [
    "4. In order to consider only those tweets with images, we will filter the dataframe by the non null \"image_urls\" column."
   ]
  },
  {
   "cell_type": "code",
   "execution_count": 107,
   "metadata": {},
   "outputs": [
    {
     "name": "stdout",
     "output_type": "stream",
     "text": [
      "<class 'pandas.core.frame.DataFrame'>\n",
      "Int64Index: 2094 entries, 0 to 2355\n",
      "Data columns (total 17 columns):\n",
      "tweet_id                      2094 non-null int64\n",
      "in_reply_to_status_id         0 non-null float64\n",
      "in_reply_to_user_id           0 non-null float64\n",
      "timestamp                     2094 non-null object\n",
      "source                        2094 non-null object\n",
      "text                          2094 non-null object\n",
      "retweeted_status_id           0 non-null float64\n",
      "retweeted_status_user_id      0 non-null float64\n",
      "retweeted_status_timestamp    0 non-null object\n",
      "image_urls                    2094 non-null object\n",
      "rating_numerator              2094 non-null int64\n",
      "rating_denominator            2094 non-null int64\n",
      "name                          2094 non-null object\n",
      "doggo                         2094 non-null object\n",
      "floofer                       2094 non-null object\n",
      "pupper                        2094 non-null object\n",
      "puppo                         2094 non-null object\n",
      "dtypes: float64(4), int64(3), object(10)\n",
      "memory usage: 294.5+ KB\n"
     ]
    },
    {
     "data": {
      "text/plain": [
       "None"
      ]
     },
     "metadata": {},
     "output_type": "display_data"
    }
   ],
   "source": [
    "df_clean_enhanced = df_clean_enhanced[df_clean_enhanced['image_urls'].notnull()]\n",
    "\n",
    "display(df_clean_enhanced.info())"
   ]
  },
  {
   "cell_type": "markdown",
   "metadata": {},
   "source": [
    "5. The next cell changes the \"timestamp\" column data type to datetime and creates additional columns with the year, month and day information for further analysis."
   ]
  },
  {
   "cell_type": "code",
   "execution_count": 108,
   "metadata": {},
   "outputs": [
    {
     "data": {
      "text/html": [
       "<div>\n",
       "<style scoped>\n",
       "    .dataframe tbody tr th:only-of-type {\n",
       "        vertical-align: middle;\n",
       "    }\n",
       "\n",
       "    .dataframe tbody tr th {\n",
       "        vertical-align: top;\n",
       "    }\n",
       "\n",
       "    .dataframe thead th {\n",
       "        text-align: right;\n",
       "    }\n",
       "</style>\n",
       "<table border=\"1\" class=\"dataframe\">\n",
       "  <thead>\n",
       "    <tr style=\"text-align: right;\">\n",
       "      <th></th>\n",
       "      <th>year</th>\n",
       "      <th>month</th>\n",
       "      <th>day</th>\n",
       "    </tr>\n",
       "  </thead>\n",
       "  <tbody>\n",
       "    <tr>\n",
       "      <td>count</td>\n",
       "      <td>2094.000000</td>\n",
       "      <td>2094.000000</td>\n",
       "      <td>2094.000000</td>\n",
       "    </tr>\n",
       "    <tr>\n",
       "      <td>mean</td>\n",
       "      <td>2015.859599</td>\n",
       "      <td>7.061127</td>\n",
       "      <td>16.016714</td>\n",
       "    </tr>\n",
       "    <tr>\n",
       "      <td>std</td>\n",
       "      <td>0.691468</td>\n",
       "      <td>4.115519</td>\n",
       "      <td>8.923908</td>\n",
       "    </tr>\n",
       "    <tr>\n",
       "      <td>min</td>\n",
       "      <td>2015.000000</td>\n",
       "      <td>1.000000</td>\n",
       "      <td>1.000000</td>\n",
       "    </tr>\n",
       "    <tr>\n",
       "      <td>25%</td>\n",
       "      <td>2015.000000</td>\n",
       "      <td>3.000000</td>\n",
       "      <td>8.000000</td>\n",
       "    </tr>\n",
       "    <tr>\n",
       "      <td>50%</td>\n",
       "      <td>2016.000000</td>\n",
       "      <td>7.000000</td>\n",
       "      <td>16.000000</td>\n",
       "    </tr>\n",
       "    <tr>\n",
       "      <td>75%</td>\n",
       "      <td>2016.000000</td>\n",
       "      <td>11.000000</td>\n",
       "      <td>24.000000</td>\n",
       "    </tr>\n",
       "    <tr>\n",
       "      <td>max</td>\n",
       "      <td>2017.000000</td>\n",
       "      <td>12.000000</td>\n",
       "      <td>31.000000</td>\n",
       "    </tr>\n",
       "  </tbody>\n",
       "</table>\n",
       "</div>"
      ],
      "text/plain": [
       "              year        month          day\n",
       "count  2094.000000  2094.000000  2094.000000\n",
       "mean   2015.859599     7.061127    16.016714\n",
       "std       0.691468     4.115519     8.923908\n",
       "min    2015.000000     1.000000     1.000000\n",
       "25%    2015.000000     3.000000     8.000000\n",
       "50%    2016.000000     7.000000    16.000000\n",
       "75%    2016.000000    11.000000    24.000000\n",
       "max    2017.000000    12.000000    31.000000"
      ]
     },
     "metadata": {},
     "output_type": "display_data"
    }
   ],
   "source": [
    "df_clean_enhanced['timestamp'] = pd.to_datetime(df_clean_enhanced['timestamp'])\n",
    "\n",
    "df_clean_enhanced['year'] = df_clean_enhanced['timestamp'].dt.year\n",
    "\n",
    "df_clean_enhanced['month'] = df_clean_enhanced['timestamp'].dt.month\n",
    "\n",
    "df_clean_enhanced['day'] = df_clean_enhanced['timestamp'].dt.day\n",
    "\n",
    "display(df_clean_enhanced[['year', 'month', 'day']].describe())"
   ]
  },
  {
   "cell_type": "markdown",
   "metadata": {},
   "source": [
    "6. The next cell changes the column \"tweet_id\" data type to string for both image and enhanced data sets."
   ]
  },
  {
   "cell_type": "code",
   "execution_count": 109,
   "metadata": {},
   "outputs": [
    {
     "data": {
      "text/plain": [
       "str"
      ]
     },
     "metadata": {},
     "output_type": "display_data"
    },
    {
     "data": {
      "text/plain": [
       "str"
      ]
     },
     "metadata": {},
     "output_type": "display_data"
    }
   ],
   "source": [
    "df_clean_enhanced['tweet_id'] = df_clean_enhanced['tweet_id'].astype(str)\n",
    "\n",
    "df_clean_image['tweet_id'] = df_clean_image['tweet_id'].astype(str)\n",
    "\n",
    "display(type(df_clean_enhanced['tweet_id'][0]))\n",
    "display(type(df_clean_image['tweet_id'][0]))"
   ]
  },
  {
   "cell_type": "markdown",
   "metadata": {},
   "source": [
    "7.  In order to fix the ratings numerator and denominator, we need to check the \"text\" column. Dog ratings are expressed as a number (numerator), a slash (\"/\") and another number(denominator). Ideally, we should search for this using a regular expression in the tweet \"text\" column. However, we found that in the \"text\" column there is also de tweet url, so first we need to get rid of this."
   ]
  },
  {
   "cell_type": "code",
   "execution_count": 110,
   "metadata": {},
   "outputs": [
    {
     "name": "stdout",
     "output_type": "stream",
     "text": [
      "This is Phineas. He's a mystical boy. Only ever appears in the hole of a donut. 13/10 https://t.co/MgUWQ76dJU\n",
      "This is Phineas. He's a mystical boy. Only ever appears in the hole of a donut. 13/10\n"
     ]
    }
   ],
   "source": [
    "#String that represents the start of an URL\n",
    "url_type = 'https://'\n",
    "\n",
    "#Find the location of this string in the \"text\" column\n",
    "df_clean_enhanced[\"remove_urls\"] = df_clean_enhanced.text.str.find(url_type)\n",
    "\n",
    "#Slice and save into \"text_wihout_url\" column every tweet text with the location of the url.\n",
    "L_text_without_url = []\n",
    "for i, value in df_clean_enhanced[\"remove_urls\"].items():\n",
    "    L_text_without_url.append(df_clean_enhanced[\"text\"][i][0:int(value)-1])\n",
    "\n",
    "df_clean_enhanced[\"text_without_url\"] = L_text_without_url\n",
    "\n",
    "#Testing if the code works\n",
    "print(df_clean_enhanced[\"text\"][0])\n",
    "print(df_clean_enhanced[\"text_without_url\"][0])"
   ]
  },
  {
   "cell_type": "markdown",
   "metadata": {},
   "source": [
    "8. To find the ratings in the text, we will use a regular expresion pattern. The pattern consists in multiple numbers separated by a single slash. The \"findall\" method will find every string that matches this criteria and store it in a list. We used this method because there could be more than a single rating per tweet."
   ]
  },
  {
   "cell_type": "code",
   "execution_count": 111,
   "metadata": {},
   "outputs": [
    {
     "data": {
      "text/plain": [
       "0       [13/10]\n",
       "1       [13/10]\n",
       "2       [12/10]\n",
       "3       [13/10]\n",
       "4       [12/10]\n",
       "         ...   \n",
       "2351     [5/10]\n",
       "2352     [6/10]\n",
       "2353     [9/10]\n",
       "2354     [7/10]\n",
       "2355     [8/10]\n",
       "Name: text_without_url, Length: 2094, dtype: object"
      ]
     },
     "metadata": {},
     "output_type": "display_data"
    }
   ],
   "source": [
    "fraction_pattern = r\"([0-9]*/{1}[0-9]*)\"\n",
    "\n",
    "ratings = df_clean_enhanced.text_without_url.str.findall(fraction_pattern)\n",
    "\n",
    "display(ratings)"
   ]
  },
  {
   "cell_type": "markdown",
   "metadata": {},
   "source": [
    "Now we need to check for inconsistencies. First, we want to check those tweets with more than one rating and the tweets with a rating denominator different from 10. Also, we would like to check if the provided rating is different from the one extracted using the regular expression presented before. The following cells shows this criteria in a couple lines of code. We also print the indices, our rating, the rating provided and the tweet text to check if it is correct or not. The indices will be used to replace the correct ratings in the dataframe for each case."
   ]
  },
  {
   "cell_type": "code",
   "execution_count": 112,
   "metadata": {},
   "outputs": [
    {
     "data": {
      "text/plain": [
       "'Index 433: Extracted rating: 84/70 Provided: 84/70. Tweet: The floofs have been released I repeat the floofs have been released. 84/70'"
      ]
     },
     "metadata": {},
     "output_type": "display_data"
    },
    {
     "data": {
      "text/plain": [
       "'Index 516: Extracted rating: 24/7 Provided: 24/7. Tweet: Meet Sam. She smiles 24/7 &amp; secretly aspires to be a reindeer. \\nKeep Sam smiling by clicking and sharing this link:'"
      ]
     },
     "metadata": {},
     "output_type": "display_data"
    },
    {
     "data": {
      "text/plain": [
       "'Index 766: Extracted rating: [\\'12/10\\', \\'11/10\\'] Provided: 12/10. Tweet: \"Yep... just as I suspected. You\\'re not flossing.\" 12/10 and 11/10 for the pup not flossing'"
      ]
     },
     "metadata": {},
     "output_type": "display_data"
    },
    {
     "data": {
      "text/plain": [
       "'Index 902: Extracted rating: 165/150 Provided: 165/150. Tweet: Why does this never happen at my front door... 165/150'"
      ]
     },
     "metadata": {},
     "output_type": "display_data"
    },
    {
     "data": {
      "text/plain": [
       "\"Index 1007: Extracted rating: ['10/10', '7/10'] Provided: 10/10. Tweet: This is Bookstore and Seaweed. Bookstore is tired and Seaweed is an asshole. 10/10 and 7/10 respectively\""
      ]
     },
     "metadata": {},
     "output_type": "display_data"
    },
    {
     "data": {
      "text/plain": [
       "\"Index 1068: Extracted rating: ['9/11', '14/10'] Provided: 9/11. Tweet: After so many requests, this is Bretagne. She was the last surviving 9/11 search dog, and our second ever 14/10. RIP\""
      ]
     },
     "metadata": {},
     "output_type": "display_data"
    },
    {
     "data": {
      "text/plain": [
       "'Index 1120: Extracted rating: 204/170 Provided: 204/170. Tweet: Say hello to this unbelievably well behaved squad of doggos. 204/170 would try to pet all at once'"
      ]
     },
     "metadata": {},
     "output_type": "display_data"
    },
    {
     "data": {
      "text/plain": [
       "\"Index 1165: Extracted rating: ['4/20', '13/10'] Provided: 4/20. Tweet: Happy 4/20 from the squad! 13/10 for all\""
      ]
     },
     "metadata": {},
     "output_type": "display_data"
    },
    {
     "data": {
      "text/plain": [
       "\"Index 1202: Extracted rating: ['50/50', '11/10'] Provided: 50/50. Tweet: This is Bluebert. He just saw that both #FinalFur match ups are split 50/50. Amazed af. 11/10\""
      ]
     },
     "metadata": {},
     "output_type": "display_data"
    },
    {
     "data": {
      "text/plain": [
       "\"Index 1222: Extracted rating: ['10/10', '8/10'] Provided: 10/10. Tweet: Meet Travis and Flurp. Travis is pretty chill but Flurp can't lie down properly. 10/10 &amp; 8/10\\nget it together Flurp\""
      ]
     },
     "metadata": {},
     "output_type": "display_data"
    },
    {
     "data": {
      "text/plain": [
       "\"Index 1228: Extracted rating: 99/90 Provided: 99/90. Tweet: Happy Saturday here's 9 puppers on a bench. 99/90 good work everybody\""
      ]
     },
     "metadata": {},
     "output_type": "display_data"
    },
    {
     "data": {
      "text/plain": [
       "\"Index 1249: Extracted rating: ['/', '3/10'] Provided: 3/10. Tweet: What hooligan sent in pictures w/out a dog in them? Churlish af. 3/10 just bc that's a neat fluffy bean bag chair\""
      ]
     },
     "metadata": {},
     "output_type": "display_data"
    },
    {
     "data": {
      "text/plain": [
       "\"Index 1254: Extracted rating: 80/80 Provided: 80/80. Tweet: Here's a brigade of puppers. All look very prepared for whatever happens next. 80/80\""
      ]
     },
     "metadata": {},
     "output_type": "display_data"
    },
    {
     "data": {
      "text/plain": [
       "'Index 1274: Extracted rating: 45/50 Provided: 45/50. Tweet: From left to right:\\nCletus, Jerome, Alejandro, Burp, &amp; Titson\\nNone know where camera is. 45/50 would hug all at once'"
      ]
     },
     "metadata": {},
     "output_type": "display_data"
    },
    {
     "data": {
      "text/plain": [
       "\"Index 1351: Extracted rating: 60/50 Provided: 60/50. Tweet: Here is a whole flock of puppers.  60/50 I'll take the lot\""
      ]
     },
     "metadata": {},
     "output_type": "display_data"
    },
    {
     "data": {
      "text/plain": [
       "\"Index 1359: Extracted rating: ['9/10', '2/10'] Provided: 9/10. Tweet: This is Socks. That water pup w the super legs just splashed him. Socks did not appreciate that. 9/10 and 2/10\""
      ]
     },
     "metadata": {},
     "output_type": "display_data"
    },
    {
     "data": {
      "text/plain": [
       "\"Index 1433: Extracted rating: 44/40 Provided: 44/40. Tweet: Happy Wednesday here's a bucket of pups. 44/40 would pet all at once\""
      ]
     },
     "metadata": {},
     "output_type": "display_data"
    },
    {
     "data": {
      "text/plain": [
       "\"Index 1459: Extracted rating: ['4/10', '13/10'] Provided: 4/10. Tweet: This may be the greatest video I've ever been sent. 4/10 for Charles the puppy, 13/10 overall. (Vid by @stevenxx_)\""
      ]
     },
     "metadata": {},
     "output_type": "display_data"
    },
    {
     "data": {
      "text/plain": [
       "\"Index 1465: Extracted rating: ['10/10', '5/10'] Provided: 10/10. Tweet: Meet Oliviér. He takes killer selfies. Has a dog of his own. It leaps at random &amp; can't bark for shit. 10/10 &amp; 5/10\""
      ]
     },
     "metadata": {},
     "output_type": "display_data"
    },
    {
     "data": {
      "text/plain": [
       "\"Index 1508: Extracted rating: ['5/10', '10/10'] Provided: 5/10. Tweet: When bae says they can't go out but you see them with someone else that same night. 5/10 &amp; 10/10 for heartbroken pup\""
      ]
     },
     "metadata": {},
     "output_type": "display_data"
    },
    {
     "data": {
      "text/plain": [
       "\"Index 1525: Extracted rating: ['10/10', '6/10'] Provided: 10/10. Tweet: This is Eriq. His friend just reminded him of last year's super bowl. Not cool friend\\n10/10 for Eriq\\n6/10 for friend\""
      ]
     },
     "metadata": {},
     "output_type": "display_data"
    },
    {
     "data": {
      "text/plain": [
       "\"Index 1538: Extracted rating: ['11/10', '10/10'] Provided: 11/10. Tweet: Meet Fynn &amp; Taco. Fynn is an all-powerful leaf lord and Taco is in the wrong place at the wrong time. 11/10 &amp; 10/10\""
      ]
     },
     "metadata": {},
     "output_type": "display_data"
    },
    {
     "data": {
      "text/plain": [
       "'Index 1635: Extracted rating: 121/110 Provided: 121/110. Tweet: Someone help the girl is being mugged. Several are distracting her while two steal her shoes. Clever puppers 121/110'"
      ]
     },
     "metadata": {},
     "output_type": "display_data"
    },
    {
     "data": {
      "text/plain": [
       "\"Index 1662: Extracted rating: ['7/11', '10/10'] Provided: 7/11. Tweet: This is Darrel. He just robbed a 7/11 and is in a high speed police chase. Was just spotted by the helicopter 10/10\""
      ]
     },
     "metadata": {},
     "output_type": "display_data"
    },
    {
     "data": {
      "text/plain": [
       "\"Index 1779: Extracted rating: 144/120 Provided: 144/120. Tweet: IT'S PUPPERGEDDON. Total of 144/120 ...I think\""
      ]
     },
     "metadata": {},
     "output_type": "display_data"
    },
    {
     "data": {
      "text/plain": [
       "\"Index 1795: Extracted rating: ['10/10', '11/10'] Provided: 10/10. Tweet: Meet Tassy &amp; Bee. Tassy is pretty chill, but Bee is convinced the Ruffles are haunted. 10/10 &amp; 11/10 respectively\""
      ]
     },
     "metadata": {},
     "output_type": "display_data"
    },
    {
     "data": {
      "text/plain": [
       "\"Index 1815: Extracted rating: ['/', '/', '12/10'] Provided: 12/10. Tweet: This is the saddest/sweetest/best picture I've been sent. 12/10 😢🐶\""
      ]
     },
     "metadata": {},
     "output_type": "display_data"
    },
    {
     "data": {
      "text/plain": [
       "\"Index 1832: Extracted rating: ['10/10', '7/10'] Provided: 10/10. Tweet: These two pups just met and have instantly bonded. Spectacular scene. Mesmerizing af. 10/10 and 7/10 for blue dog\""
      ]
     },
     "metadata": {},
     "output_type": "display_data"
    },
    {
     "data": {
      "text/plain": [
       "'Index 1843: Extracted rating: 88/80 Provided: 88/80. Tweet: Here we have an entire platoon of puppers. Total score: 88/80 would pet all at once'"
      ]
     },
     "metadata": {},
     "output_type": "display_data"
    },
    {
     "data": {
      "text/plain": [
       "\"Index 1897: Extracted rating: ['10/10', '4/10'] Provided: 10/10. Tweet: Meet Rufio. He is unaware of the pink legless pupper wrapped around him. Might want to get that checked 10/10 &amp; 4/10\""
      ]
     },
     "metadata": {},
     "output_type": "display_data"
    },
    {
     "data": {
      "text/plain": [
       "\"Index 1901: Extracted rating: ['5/10', '8/10'] Provided: 5/10. Tweet: Two gorgeous dogs here. Little waddling dog is a rebel. Refuses to look at camera. Must be a preteen. 5/10 &amp; 8/10\""
      ]
     },
     "metadata": {},
     "output_type": "display_data"
    },
    {
     "data": {
      "text/plain": [
       "\"Index 1970: Extracted rating: ['8/10', '11/10'] Provided: 8/10. Tweet: Meet Eve. She's a raging alcoholic 8/10 (would b 11/10 but pupper alcoholism is a tragic issue that I can't condone)\""
      ]
     },
     "metadata": {},
     "output_type": "display_data"
    },
    {
     "data": {
      "text/plain": [
       "\"Index 2010: Extracted rating: ['10/10', '7/10', '12/10'] Provided: 10/10. Tweet: 10/10 for dog. 7/10 for cat. 12/10 for human. Much skill. Would pet all\""
      ]
     },
     "metadata": {},
     "output_type": "display_data"
    },
    {
     "data": {
      "text/plain": [
       "\"Index 2064: Extracted rating: ['11/10', '8/10'] Provided: 11/10. Tweet: Meet Holly. She's trying to teach small human-like pup about blocks but he's not paying attention smh. 11/10 &amp; 8/10\""
      ]
     },
     "metadata": {},
     "output_type": "display_data"
    },
    {
     "data": {
      "text/plain": [
       "\"Index 2113: Extracted rating: ['11/10', '8/10'] Provided: 11/10. Tweet: Meet Hank and Sully. Hank is very proud of the pumpkin they found and Sully doesn't give a shit. 11/10 and 8/10\""
      ]
     },
     "metadata": {},
     "output_type": "display_data"
    },
    {
     "data": {
      "text/plain": [
       "\"Index 2177: Extracted rating: ['10/10', '7/10'] Provided: 10/10. Tweet: Here we have Pancho and Peaches. Pancho is a Condoleezza Gryffindor, and Peaches is just an asshole. 10/10 &amp; 7/10\""
      ]
     },
     "metadata": {},
     "output_type": "display_data"
    },
    {
     "data": {
      "text/plain": [
       "\"Index 2216: Extracted rating: ['8/10', '1/10'] Provided: 8/10. Tweet: This is Spark. He's nervous. Other dog hasn't moved in a while. Won't come when called. Doesn't fetch well 8/10&amp;1/10\""
      ]
     },
     "metadata": {},
     "output_type": "display_data"
    },
    {
     "data": {
      "text/plain": [
       "\"Index 2263: Extracted rating: ['10/10', '4/10'] Provided: 10/10. Tweet: This is Kial. Kial is either wearing a cape, which would be rad, or flashing us, which would be rude. 10/10 or 4/10\""
      ]
     },
     "metadata": {},
     "output_type": "display_data"
    },
    {
     "data": {
      "text/plain": [
       "\"Index 2272: Extracted rating: ['7/10', '8/10'] Provided: 7/10. Tweet: Two dogs in this one. Both are rare Jujitsu Pythagoreans. One slightly whiter than other. Long legs. 7/10 and 8/10\""
      ]
     },
     "metadata": {},
     "output_type": "display_data"
    },
    {
     "data": {
      "text/plain": [
       "\"Index 2306: Extracted rating: ['10/10', '10/10'] Provided: 10/10. Tweet: These are Peruvian Feldspars. Their names are Cupit and Prencer. Both resemble Rand Paul. Sick outfits 10/10 &amp; 10/10\""
      ]
     },
     "metadata": {},
     "output_type": "display_data"
    },
    {
     "data": {
      "text/plain": [
       "\"Index 2335: Extracted rating: ['1/2', '9/10'] Provided: 1/2. Tweet: This is an Albanian 3 1/2 legged  Episcopalian. Loves well-polished hardwood flooring. Penis on the collar. 9/10\""
      ]
     },
     "metadata": {},
     "output_type": "display_data"
    },
    {
     "data": {
      "text/plain": [
       "'29 multiple ratings, 12 ratings with denominators != from 10 and 0 cases with != ratings between the extracted and the provided ones'"
      ]
     },
     "metadata": {},
     "output_type": "display_data"
    }
   ],
   "source": [
    "count_multiple_ratings = 0\n",
    "\n",
    "count_10_denominators = 0\n",
    "\n",
    "count_different_ratings = 0\n",
    "\n",
    "\n",
    "for k, val in ratings.items():\n",
    "    #Check for more than one rating\n",
    "    if len(val) > 1:\n",
    "        display(\"Index {}: Extracted rating: {} Provided: {}. Tweet: {}\".format(k,\n",
    "                                                                                ratings[k],\n",
    "                                                                                str(df_clean_enhanced[\"rating_numerator\"][k])+'/'+str(df_clean_enhanced[\"rating_denominator\"][k]),\n",
    "                                                                                df_clean_enhanced[\"text_without_url\"][k]))\n",
    "        count_multiple_ratings+=1\n",
    "    \n",
    "    #If there is only one rating, check if the denominator is different from 10 (as most ratings are based on 10)\n",
    "    elif str(df_clean_enhanced[\"rating_denominator\"][k]) != \"10\":\n",
    "        display(\"Index {}: Extracted rating: {} Provided: {}. Tweet: {}\".format(k,\n",
    "                                                                                ratings[k][0],\n",
    "                                                                                str(df_clean_enhanced[\"rating_numerator\"][k])+'/'+str(df_clean_enhanced[\"rating_denominator\"][k]),\n",
    "                                                                                df_clean_enhanced[\"text_without_url\"][k]))\n",
    "        count_10_denominators+=1\n",
    "        \n",
    "    #Finally, check if the provided ratings are different from the ones extracted with regex    \n",
    "    else:\n",
    "        locate_slash = val[0].find(\"/\")\n",
    "        if (str(val[0][:locate_slash]) != str(df_clean_enhanced[\"rating_numerator\"][k])) or (str(val[0][locate_slash+1:]) != str(df_clean_enhanced[\"rating_denominator\"][k])):\n",
    "            print(\"Different ratings!\")\n",
    "            display(\"Index {}: Extracted rating: {} Provided: {}. Tweet: {}\".format(k,\n",
    "                                                                                ratings[k][0],\n",
    "                                                                                str(df_clean_enhanced[\"rating_numerator\"][k])+'/'+str(df_clean_enhanced[\"rating_denominator\"][k]),\n",
    "                                                                                df_clean_enhanced[\"text_without_url\"][k]))\n",
    "            \n",
    "            count_different_ratings+=1\n",
    "            \n",
    "display(\"{} multiple ratings, {} ratings with denominators != from 10 and {} cases with != ratings between the extracted and the provided ones\".format(count_multiple_ratings,\n",
    "                                                        count_10_denominators,\n",
    "                                                        count_different_ratings))"
   ]
  },
  {
   "cell_type": "markdown",
   "metadata": {},
   "source": [
    "After checking the tweets, we can infere that higher ratings include multiple dogs This should be corrected when merging the this database with the predicted dog breed.\n",
    "\n",
    "There are 29 tweets with multiple ratings where we need to check each case. If it refers to more than one dog, we will maintain the rating provided. If it refers to a dog and another animal or anything else, we will correct the rating. \n",
    "\n",
    "Tweet 516 doesn't include a rating as \"24/7\" refers to the time that the dog smiles (every hour and every day). Observation should be eliminated or further analysis.\n",
    "\n",
    "Tweet 1068 rating needs to be corrected because \"9/11\" refers to the WTC disaster. It will be corrected to \"14/10\".\n",
    "\n",
    "Tweet 1165 rating needs to be corrected because \"4/20\" refers to the April 20. It will be corrected to \"13/10\".\n",
    "\n",
    "Tweet 1202 rating should be corrected to '11/10'.\n",
    "\n",
    "Tweet 1662 rating should be corrected to '10/10' as 7/11 refers to a gun.\n",
    "\n",
    "Tweet 2335 rating should be corrected to '9/10'.\n",
    "\n",
    "The next cell fixes these problems."
   ]
  },
  {
   "cell_type": "code",
   "execution_count": 113,
   "metadata": {},
   "outputs": [],
   "source": [
    "df_clean_enhanced = df_clean_enhanced.drop(516)\n",
    "\n",
    "df_clean_enhanced.loc[1068, 'rating_numerator'] = 14\n",
    "df_clean_enhanced.loc[1068, 'rating_denominator'] = 10\n",
    "\n",
    "df_clean_enhanced.loc[1165, 'rating_numerator'] = 13\n",
    "df_clean_enhanced.loc[1165, 'rating_denominator'] = 10\n",
    "\n",
    "df_clean_enhanced.loc[1202, 'rating_numerator'] = 11\n",
    "df_clean_enhanced.loc[1202, 'rating_denominator'] = 10\n",
    "\n",
    "df_clean_enhanced.loc[1662, 'rating_numerator'] = 10\n",
    "df_clean_enhanced.loc[1662, 'rating_denominator'] = 10\n",
    "\n",
    "df_clean_enhanced.loc[2335, 'rating_numerator'] = 9\n",
    "df_clean_enhanced.loc[2335, 'rating_denominator'] = 10"
   ]
  },
  {
   "cell_type": "markdown",
   "metadata": {},
   "source": [
    "9. In order to improve the dog categorization, first we will search for the tweets with multiple dog categories. For this, we will create a single variable with the concatenation of the received categorizations.\n"
   ]
  },
  {
   "cell_type": "code",
   "execution_count": 114,
   "metadata": {},
   "outputs": [
    {
     "data": {
      "text/plain": [
       "array(['None-None-None-None', 'doggo-None-None-None',\n",
       "       'None-None-None-puppo', 'None-None-pupper-None',\n",
       "       'None-floofer-None-None', 'doggo-None-None-puppo',\n",
       "       'doggo-floofer-None-None', 'doggo-None-pupper-None'], dtype=object)"
      ]
     },
     "metadata": {},
     "output_type": "display_data"
    },
    {
     "data": {
      "text/plain": [
       "'There are 11 observations with multiple dog categories and 1758 observations with no categories.'"
      ]
     },
     "metadata": {},
     "output_type": "display_data"
    }
   ],
   "source": [
    "df_clean_enhanced['Dog_Dicc'] = df_clean_enhanced['doggo'].map(str) + '-' + df_clean_enhanced['floofer'].map(str) + '-' + df_clean_enhanced['pupper'].map(str) + '-' + df_clean_enhanced['puppo'].map(str)\n",
    "\n",
    "display(df_clean_enhanced['Dog_Dicc'].unique())\n",
    "\n",
    "count_none_categorization = len(df_clean_enhanced[df_clean_enhanced['Dog_Dicc'] == 'None-None-None-None'])\n",
    "count_multiple_categorization = len(df_clean_enhanced[(df_clean_enhanced['Dog_Dicc'] == 'doggo-None-None-puppo') | \n",
    "                                                      (df_clean_enhanced['Dog_Dicc'] == 'doggo-floofer-None-None') |\n",
    "                                                     (df_clean_enhanced['Dog_Dicc'] == 'doggo-None-pupper-None')])\n",
    "\n",
    "display(\"There are {} observations with multiple dog categories and {} observations with no categories.\".format(count_multiple_categorization, count_none_categorization))"
   ]
  },
  {
   "cell_type": "markdown",
   "metadata": {},
   "source": [
    "As we can see, there are 11 observations with multiple dog categorizations. In this project, we will focus on correcting these cases as it will help us to improve the dataframe tidiness later. In the next cell, we will visualize these observations and correct them when possible."
   ]
  },
  {
   "cell_type": "code",
   "execution_count": 115,
   "metadata": {},
   "outputs": [
    {
     "data": {
      "text/plain": [
       "191     Here's a puppo participating in the #ScienceMarch. Cleverly disguising her own doggo agenda. 13/10 would keep the planet habitable for https://t.co/cMhq16isel      \n",
       "200     At first I thought this was a shy doggo, but it's actually a Rare Canadian Floofer Owl. Amateurs would confuse the two. 11/10 only send dogs https://t.co/TXdT3tmuYk\n",
       "460     This is Dido. She's playing the lead role in \"Pupper Stops to Catch Snow Before Resuming Shadow Box with Dried Apple.\" 13/10 (IG: didodoggo) https://t.co/m7isZrOBX7\n",
       "531     Here we have Burke (pupper) and Dexter (doggo). Pupper wants to be exactly like doggo. Both 12/10 would pet at same time https://t.co/ANBpEYHaho                    \n",
       "575     This is Bones. He's being haunted by another doggo of roughly the same size. 12/10 deep breaths pupper everything's fine https://t.co/55Dqe0SJNj                    \n",
       "705     This is Pinot. He's a sophisticated doggo. You can tell by the hat. Also pointier than your average pupper. Still 10/10 would pet cautiously https://t.co/f2wmLZTPHd\n",
       "733     Pupper butt 1, Doggo 0. Both 12/10 https://t.co/WQvcPEpH2u                                                                                                          \n",
       "889     Meet Maggie &amp; Lila. Maggie is the doggo, Lila is the pupper. They are sisters. Both 12/10 would pet at the same time https://t.co/MYwR4DQKll                    \n",
       "956     Please stop sending it pictures that don't even have a doggo or pupper in them. Churlish af. 5/10 neat couch tho https://t.co/u2c9c7qSg8                            \n",
       "1063    This is just downright precious af. 12/10 for both pupper and doggo https://t.co/o5J479bZUC                                                                         \n",
       "1113    Like father (doggo), like son (pupper). Both 12/10 https://t.co/pG2inLaOda                                                                                          \n",
       "Name: text, dtype: object"
      ]
     },
     "metadata": {},
     "output_type": "display_data"
    }
   ],
   "source": [
    "pd.set_option('display.max_colwidth', -1)\n",
    "\n",
    "multiple_categories = ['doggo-None-None-puppo', 'doggo-floofer-None-None', 'doggo-None-pupper-None']\n",
    "\n",
    "display(df_clean_enhanced.text[(df_clean_enhanced['Dog_Dicc'] == 'doggo-None-None-puppo') |\n",
    "                                           (df_clean_enhanced['Dog_Dicc'] == 'doggo-floofer-None-None') |\n",
    "                                           (df_clean_enhanced['Dog_Dicc'] == 'doggo-None-pupper-None')])"
   ]
  },
  {
   "cell_type": "markdown",
   "metadata": {},
   "source": [
    "After watching the photos/videos of each tweet, the corrections made are as follows.\n",
    "\n",
    "Tweet 191 category should be corrected to puppo.\n",
    "\n",
    "Tweet 200 category should be corrected to floofer.\n",
    "\n",
    "Tweet 460 category should be corrected to pupper.\n",
    "\n",
    "Tweet 575 category should be corrected to pupper.\n",
    "\n",
    "Tweet 956 category should be corrected to doggo.\n",
    "\n",
    "Tweet 531 category refers to two dogs.\n",
    "\n",
    "Tweet 733 category refers to two dogs.\n",
    "\n",
    "Tweet 889 category refers to two dogs.\n",
    "\n",
    "Tweet 1063 category refers to two dogs.\n",
    "\n",
    "Tweet 1113 category refers to two dogs.\n",
    "\n",
    "Tweet 705 is not a dog.\n",
    "\n",
    "In the next cel, we will correct the categories of the dogs by index. Furthermore, tweets containing multiple dogs will be dropped to improve the breed prediction analysis."
   ]
  },
  {
   "cell_type": "code",
   "execution_count": 116,
   "metadata": {},
   "outputs": [],
   "source": [
    "df_clean_enhanced = df_clean_enhanced.drop(531)\n",
    "df_clean_enhanced = df_clean_enhanced.drop(733)\n",
    "df_clean_enhanced = df_clean_enhanced.drop(889)\n",
    "df_clean_enhanced = df_clean_enhanced.drop(1063)\n",
    "df_clean_enhanced = df_clean_enhanced.drop(1113)\n",
    "df_clean_enhanced = df_clean_enhanced.drop(705)\n",
    "\n",
    "df_clean_enhanced.loc[191, 'doggo'] = 'None'\n",
    "df_clean_enhanced.loc[200, 'doggo'] = 'None'\n",
    "df_clean_enhanced.loc[460, 'doggo'] = 'None'\n",
    "df_clean_enhanced.loc[575, 'doggo'] = 'None'\n",
    "df_clean_enhanced.loc[956, 'pupper'] = 'None'"
   ]
  },
  {
   "cell_type": "markdown",
   "metadata": {},
   "source": [
    "10. The image predictions database tidiness could also be improved by droping columns and changing variable names."
   ]
  },
  {
   "cell_type": "code",
   "execution_count": 117,
   "metadata": {},
   "outputs": [],
   "source": [
    "dict_breed = {\"p1\" : \"breed_prediction_1\",\n",
    "             \"p2\" : \"breed_prediction_2\",\n",
    "             \"p3\" : \"breed_prediction_3\",\n",
    "             \"p1_conf\" : \"prediction_confidence_1\",\n",
    "             \"p2_conf\" : \"prediction_confidence_2\",\n",
    "             \"p3_conf\" : \"prediction_confidence_3\",\n",
    "             \"p1_dog\" : 'prediction_is_a_dog_1',\n",
    "             \"p2_dog\" : 'prediction_is_a_dog_2',\n",
    "             \"p3_dog\" : 'prediction_is_a_dog_3'}\n",
    "\n",
    "df_clean_image = df_clean_image.rename(columns = dict_breed)\n",
    "\n",
    "df_clean_image = df_clean_image.drop(columns = ['jpg_url', 'img_num'])"
   ]
  },
  {
   "cell_type": "markdown",
   "metadata": {},
   "source": [
    "### Tidiness Issues\n",
    "\n",
    "1. As \"image_urls\" column has multiple values in each row separated by commas, we recommend to drop this column. We will also drop all columns used in previous analysis or that won't be used anymore ('in_reply_to_status_id', 'in_reply_to_user_id', 'source', 'retweeted_status_id', 'retweeted_status_user_id', 'retweeted_status_timestamp', 'remove_urls', 'text_without_url', 'Dog_Dicc')."
   ]
  },
  {
   "cell_type": "code",
   "execution_count": 118,
   "metadata": {},
   "outputs": [
    {
     "data": {
      "text/plain": [
       "Index(['tweet_id', 'timestamp', 'text', 'rating_numerator',\n",
       "       'rating_denominator', 'name', 'doggo', 'floofer', 'pupper', 'puppo',\n",
       "       'year', 'month', 'day'],\n",
       "      dtype='object')"
      ]
     },
     "metadata": {},
     "output_type": "display_data"
    }
   ],
   "source": [
    "columns_dropped = ['image_urls', 'in_reply_to_status_id', 'in_reply_to_user_id', 'source', 'retweeted_status_id',\n",
    "                   'retweeted_status_user_id', 'retweeted_status_timestamp', 'remove_urls', 'text_without_url', 'Dog_Dicc']\n",
    "\n",
    "df_clean_enhanced = df_clean_enhanced.drop(columns = columns_dropped)\n",
    "\n",
    "display(df_clean_enhanced.columns)"
   ]
  },
  {
   "cell_type": "markdown",
   "metadata": {},
   "source": [
    "2. Dog categorization variable is represented as 4 columns. We can collapse all 4 columns into a single one as it is only one variable called \"dog_category\". First, we need to get rid of the \"None\" values, then we can combine the columns as strings."
   ]
  },
  {
   "cell_type": "code",
   "execution_count": 119,
   "metadata": {},
   "outputs": [
    {
     "data": {
      "text/plain": [
       "array(['', 'doggo', 'puppo', 'pupper', 'floofer'], dtype=object)"
      ]
     },
     "metadata": {},
     "output_type": "display_data"
    }
   ],
   "source": [
    "df_clean_enhanced.doggo = df_clean_enhanced.doggo.replace(\"None\", \"\")\n",
    "df_clean_enhanced.floofer = df_clean_enhanced.floofer.replace(\"None\", \"\")\n",
    "df_clean_enhanced.pupper = df_clean_enhanced.pupper.replace(\"None\", \"\")\n",
    "df_clean_enhanced.puppo = df_clean_enhanced.puppo.replace(\"None\", \"\")\n",
    "\n",
    "df_clean_enhanced['dog_category'] = df_clean_enhanced['doggo'] + df_clean_enhanced['floofer'] + df_clean_enhanced['pupper'] + df_clean_enhanced['puppo']\n",
    "\n",
    "L_dog_categories = ['doggo', 'floofer', 'pupper', 'puppo']\n",
    "\n",
    "df_clean_enhanced = df_clean_enhanced.drop(columns = L_dog_categories)\n",
    "\n",
    "display(df_clean_enhanced['dog_category'].unique())"
   ]
  },
  {
   "cell_type": "markdown",
   "metadata": {},
   "source": [
    "3. All three data sets should be merged by \"tweet_id\" into a single database for further analysis."
   ]
  },
  {
   "cell_type": "code",
   "execution_count": 120,
   "metadata": {},
   "outputs": [
    {
     "name": "stdout",
     "output_type": "stream",
     "text": [
      "<class 'pandas.core.frame.DataFrame'>\n",
      "Int64Index: 1958 entries, 0 to 1957\n",
      "Data columns (total 21 columns):\n",
      "tweet_id                   1958 non-null object\n",
      "timestamp                  1958 non-null datetime64[ns, UTC]\n",
      "text                       1958 non-null object\n",
      "rating_numerator           1958 non-null int64\n",
      "rating_denominator         1958 non-null int64\n",
      "name                       1958 non-null object\n",
      "year                       1958 non-null int64\n",
      "month                      1958 non-null int64\n",
      "day                        1958 non-null int64\n",
      "dog_category               1958 non-null object\n",
      "breed_prediction_1         1958 non-null object\n",
      "prediction_confidence_1    1958 non-null float64\n",
      "prediction_is_a_dog_1      1958 non-null bool\n",
      "breed_prediction_2         1958 non-null object\n",
      "prediction_confidence_2    1958 non-null float64\n",
      "prediction_is_a_dog_2      1958 non-null bool\n",
      "breed_prediction_3         1958 non-null object\n",
      "prediction_confidence_3    1958 non-null float64\n",
      "prediction_is_a_dog_3      1958 non-null bool\n",
      "retweet_count              1958 non-null int64\n",
      "favorite_count             1958 non-null int64\n",
      "dtypes: bool(3), datetime64[ns, UTC](1), float64(3), int64(7), object(7)\n",
      "memory usage: 296.4+ KB\n"
     ]
    },
    {
     "data": {
      "text/plain": [
       "None"
      ]
     },
     "metadata": {},
     "output_type": "display_data"
    }
   ],
   "source": [
    "twitter_archive_master = df_clean_enhanced.merge(df_clean_image, on='tweet_id')\n",
    "twitter_archive_master = twitter_archive_master.merge(df_clean_json, on='tweet_id')\n",
    "\n",
    "display(twitter_archive_master.info())"
   ]
  },
  {
   "cell_type": "markdown",
   "metadata": {},
   "source": [
    "### Data Storing\n",
    "\n",
    "In this section, we will store the cleaned data into a single csv file named \"twitter_archive_master.csv\" which will be used for our analysis and visualizations."
   ]
  },
  {
   "cell_type": "code",
   "execution_count": 121,
   "metadata": {},
   "outputs": [],
   "source": [
    "twitter_archive_master.to_csv('twitter_archive_master.csv', index=False)"
   ]
  },
  {
   "cell_type": "markdown",
   "metadata": {},
   "source": [
    "<a id='intro'></a>\n",
    "## Data Analysis\n",
    "\n",
    "In this section, we will analyzed the processed data in order to obtain insights from the WeRateDogs Twitter.\n",
    "\n",
    "The questions we would like to ask are the following:\n",
    "\n",
    "1. Which are the dogs categories with the higher Twitter reactions?\n",
    "2. How is the relationship between retweets counts and favorite counts for the WeRateDogs account?\n",
    "3. Which dog breeds have the best ratings?\n",
    "\n",
    "The answers to these questions are presented in the following sections.\n",
    "\n",
    "# Which are the dogs categories with the higher Twitter reactions?\n",
    "\n",
    "To answer this question, we will group the dog categories by retweet and favorite counts. The dataframe should be grouped by the mean value to correct observation imbalances."
   ]
  },
  {
   "cell_type": "code",
   "execution_count": 124,
   "metadata": {},
   "outputs": [
    {
     "data": {
      "text/html": [
       "<div>\n",
       "<style scoped>\n",
       "    .dataframe tbody tr th:only-of-type {\n",
       "        vertical-align: middle;\n",
       "    }\n",
       "\n",
       "    .dataframe tbody tr th {\n",
       "        vertical-align: top;\n",
       "    }\n",
       "\n",
       "    .dataframe thead th {\n",
       "        text-align: right;\n",
       "    }\n",
       "</style>\n",
       "<table border=\"1\" class=\"dataframe\">\n",
       "  <thead>\n",
       "    <tr style=\"text-align: right;\">\n",
       "      <th></th>\n",
       "      <th>retweet_count</th>\n",
       "      <th>favorite_count</th>\n",
       "    </tr>\n",
       "    <tr>\n",
       "      <th>dog_category</th>\n",
       "      <th></th>\n",
       "      <th></th>\n",
       "    </tr>\n",
       "  </thead>\n",
       "  <tbody>\n",
       "    <tr>\n",
       "      <td>doggo</td>\n",
       "      <td>6177.888889</td>\n",
       "      <td>18046.904762</td>\n",
       "    </tr>\n",
       "    <tr>\n",
       "      <td>floofer</td>\n",
       "      <td>4011.125000</td>\n",
       "      <td>12121.375000</td>\n",
       "    </tr>\n",
       "    <tr>\n",
       "      <td>pupper</td>\n",
       "      <td>2023.645320</td>\n",
       "      <td>6523.108374</td>\n",
       "    </tr>\n",
       "    <tr>\n",
       "      <td>puppo</td>\n",
       "      <td>6067.565217</td>\n",
       "      <td>21293.739130</td>\n",
       "    </tr>\n",
       "  </tbody>\n",
       "</table>\n",
       "</div>"
      ],
      "text/plain": [
       "              retweet_count  favorite_count\n",
       "dog_category                               \n",
       "doggo         6177.888889    18046.904762  \n",
       "floofer       4011.125000    12121.375000  \n",
       "pupper        2023.645320    6523.108374   \n",
       "puppo         6067.565217    21293.739130  "
      ]
     },
     "metadata": {},
     "output_type": "display_data"
    },
    {
     "data": {
      "text/plain": [
       "<matplotlib.axes._subplots.AxesSubplot at 0x1e789173288>"
      ]
     },
     "execution_count": 124,
     "metadata": {},
     "output_type": "execute_result"
    },
    {
     "data": {
      "image/png": "[encoded data removed]",
      "text/plain": [
       "<Figure size 432x288 with 1 Axes>"
      ]
     },
     "metadata": {
      "needs_background": "light"
     },
     "output_type": "display_data"
    },
    {
     "data": {
      "image/png": "[encoded data removed]",
      "text/plain": [
       "<Figure size 432x288 with 1 Axes>"
      ]
     },
     "metadata": {
      "needs_background": "light"
     },
     "output_type": "display_data"
    }
   ],
   "source": [
    "#Reading the data\n",
    "twitter_archive_master = pd.read_csv(\"twitter_archive_master.csv\")\n",
    "\n",
    "#Selecting the required columns for the analysis\n",
    "df_reactions_category = pd.concat([twitter_archive_master['dog_category'], twitter_archive_master['retweet_count'], twitter_archive_master['favorite_count']], axis=1)\n",
    "\n",
    "#Filtering by non null values\n",
    "df_reactions_category = df_reactions_category[df_reactions_category['dog_category'].notnull()]\n",
    "\n",
    "#Grouping data\n",
    "df_reactions_category = df_reactions_category.groupby(['dog_category']).mean()\n",
    "\n",
    "#Data visualization\n",
    "display(df_reactions_category)\n",
    "\n",
    "df_reactions_category['categories'] = df_reactions_category.index\n",
    "\n",
    "df_reactions_category.plot(x='categories', y='favorite_count', kind='barh', title=\"Mean Favorite Counts by Dog Categories\")\n",
    "\n",
    "df_reactions_category.plot(x='categories', y='retweet_count', kind='barh', title=\"Mean Retweet Counts by Dog Categories\", color = 'r')"
   ]
  },
  {
   "cell_type": "markdown",
   "metadata": {},
   "source": [
    "On the one hand, puppos are the most favorited followed by doggos, floofers and puppers. On the other hand, doggos are the most retweeted, followed by puppos, floofer and puppers. The distribution of these reactions leads us to our next question.\n",
    "\n",
    "# How is the relationship between retweets and favorite counts in the WeRateDogs account?\n",
    "\n",
    "In order to answer this question, is useful to visualize the relationship using a scatter plot and a regresion model. First, lets scatter plot the mentioned variables\n"
   ]
  },
  {
   "cell_type": "code",
   "execution_count": 29,
   "metadata": {},
   "outputs": [
    {
     "data": {
      "text/plain": [
       "Text(0, 0.5, 'Favorite Counts')"
      ]
     },
     "execution_count": 29,
     "metadata": {},
     "output_type": "execute_result"
    },
    {
     "data": {
      "image/png": "[encoded data removed]",
      "text/plain": [
       "<Figure size 432x288 with 1 Axes>"
      ]
     },
     "metadata": {
      "needs_background": "light"
     },
     "output_type": "display_data"
    }
   ],
   "source": [
    "#Selecting the columns used for the analysis\n",
    "df_reactions = pd.concat([twitter_archive_master['retweet_count'], twitter_archive_master['favorite_count']], axis=1)\n",
    "\n",
    "#Data visualization\n",
    "df_reactions.plot(x='retweet_count', y='favorite_count', title = 'Retweet and Favorite Counts Relationship', kind='scatter')\n",
    "\n",
    "plt.xlabel('Retweets')\n",
    "\n",
    "plt.ylabel('Favorite Counts')"
   ]
  },
  {
   "cell_type": "markdown",
   "metadata": {},
   "source": [
    "Now we can plot a regression model in the same dataset using seaborn library."
   ]
  },
  {
   "cell_type": "code",
   "execution_count": 125,
   "metadata": {},
   "outputs": [
    {
     "data": {
      "text/plain": [
       "Text(0, 0.5, 'Favorite Counts')"
      ]
     },
     "execution_count": 125,
     "metadata": {},
     "output_type": "execute_result"
    },
    {
     "data": {
      "image/png": "[encoded data removed]",
      "text/plain": [
       "<Figure size 432x288 with 1 Axes>"
      ]
     },
     "metadata": {
      "needs_background": "light"
     },
     "output_type": "display_data"
    }
   ],
   "source": [
    "#Linear Regression model visualization\n",
    "sns.regplot(x='retweet_count', y='favorite_count', data=df_reactions, color='g', marker='+')\n",
    "\n",
    "plt.title('Retweet and Favorite Counts Regression Plot')\n",
    "\n",
    "plt.xlabel('Retweets')\n",
    "\n",
    "plt.ylabel('Favorite Counts')"
   ]
  },
  {
   "cell_type": "markdown",
   "metadata": {},
   "source": [
    "The linear relationship is very clear. As we can see in the next correlation matrix, there is a positive relationship between retweet and favorite counts in the WeRateDogs Twitter account."
   ]
  },
  {
   "cell_type": "code",
   "execution_count": 126,
   "metadata": {},
   "outputs": [
    {
     "data": {
      "image/png": "[encoded data removed]",
      "text/plain": [
       "<Figure size 360x360 with 2 Axes>"
      ]
     },
     "metadata": {
      "needs_background": "light"
     },
     "output_type": "display_data"
    }
   ],
   "source": [
    "#Correlation Matrix Visualization\n",
    "reactions_correlation = df_reactions.corr(method = 'spearman')\n",
    "\n",
    "fig, ax = plt.subplots(figsize=(5,5))\n",
    "\n",
    "ax = sns.heatmap(reactions_correlation, annot=True, linewidths=2, linecolor='black', cmap='coolwarm', vmin=-1, vmax=1, center=0, square=True)\n",
    "\n",
    "ax.set_yticklabels(reactions_correlation.index, rotation=0)\n",
    "\n",
    "bottom, top = ax.get_ylim()\n",
    "ax.set_ylim(bottom + 0.5, top - 0.5)\n",
    "\n",
    "plt.title('Retweets & Favorite Count Correlation')\n",
    "\n",
    "plt.show()"
   ]
  },
  {
   "cell_type": "markdown",
   "metadata": {},
   "source": [
    "# Which dog breeds have the best ratings?\n",
    "\n",
    "To answer this question we will group by ratings and dog breeds.\n",
    "\n",
    "First, we consider only those predictions that were detected as dogs and with a prediction confidence of over 0.7 by slicing the cleaned dataframe."
   ]
  },
  {
   "cell_type": "code",
   "execution_count": 128,
   "metadata": {},
   "outputs": [
    {
     "data": {
      "text/html": [
       "<div>\n",
       "<style scoped>\n",
       "    .dataframe tbody tr th:only-of-type {\n",
       "        vertical-align: middle;\n",
       "    }\n",
       "\n",
       "    .dataframe tbody tr th {\n",
       "        vertical-align: top;\n",
       "    }\n",
       "\n",
       "    .dataframe thead th {\n",
       "        text-align: right;\n",
       "    }\n",
       "</style>\n",
       "<table border=\"1\" class=\"dataframe\">\n",
       "  <thead>\n",
       "    <tr style=\"text-align: right;\">\n",
       "      <th></th>\n",
       "      <th>prediction_confidence_1</th>\n",
       "      <th>prediction_is_a_dog_1</th>\n",
       "      <th>rating_numerator</th>\n",
       "      <th>rating_denominator</th>\n",
       "      <th>rating</th>\n",
       "    </tr>\n",
       "    <tr>\n",
       "      <th>breed_prediction_1</th>\n",
       "      <th></th>\n",
       "      <th></th>\n",
       "      <th></th>\n",
       "      <th></th>\n",
       "      <th></th>\n",
       "    </tr>\n",
       "  </thead>\n",
       "  <tbody>\n",
       "    <tr>\n",
       "      <td>clumber</td>\n",
       "      <td>0.946718</td>\n",
       "      <td>True</td>\n",
       "      <td>27.000000</td>\n",
       "      <td>10.0</td>\n",
       "      <td>2.700000</td>\n",
       "    </tr>\n",
       "    <tr>\n",
       "      <td>Gordon_setter</td>\n",
       "      <td>0.940724</td>\n",
       "      <td>True</td>\n",
       "      <td>14.000000</td>\n",
       "      <td>10.0</td>\n",
       "      <td>1.400000</td>\n",
       "    </tr>\n",
       "    <tr>\n",
       "      <td>black-and-tan_coonhound</td>\n",
       "      <td>0.854861</td>\n",
       "      <td>True</td>\n",
       "      <td>14.000000</td>\n",
       "      <td>10.0</td>\n",
       "      <td>1.400000</td>\n",
       "    </tr>\n",
       "    <tr>\n",
       "      <td>Afghan_hound</td>\n",
       "      <td>0.903712</td>\n",
       "      <td>True</td>\n",
       "      <td>13.000000</td>\n",
       "      <td>10.0</td>\n",
       "      <td>1.300000</td>\n",
       "    </tr>\n",
       "    <tr>\n",
       "      <td>curly-coated_retriever</td>\n",
       "      <td>0.733256</td>\n",
       "      <td>True</td>\n",
       "      <td>13.000000</td>\n",
       "      <td>10.0</td>\n",
       "      <td>1.300000</td>\n",
       "    </tr>\n",
       "    <tr>\n",
       "      <td>briard</td>\n",
       "      <td>0.982755</td>\n",
       "      <td>True</td>\n",
       "      <td>13.000000</td>\n",
       "      <td>10.0</td>\n",
       "      <td>1.300000</td>\n",
       "    </tr>\n",
       "    <tr>\n",
       "      <td>Leonberg</td>\n",
       "      <td>0.927021</td>\n",
       "      <td>True</td>\n",
       "      <td>13.000000</td>\n",
       "      <td>10.0</td>\n",
       "      <td>1.300000</td>\n",
       "    </tr>\n",
       "    <tr>\n",
       "      <td>Siberian_husky</td>\n",
       "      <td>0.786770</td>\n",
       "      <td>True</td>\n",
       "      <td>12.200000</td>\n",
       "      <td>10.0</td>\n",
       "      <td>1.220000</td>\n",
       "    </tr>\n",
       "    <tr>\n",
       "      <td>Samoyed</td>\n",
       "      <td>0.947903</td>\n",
       "      <td>True</td>\n",
       "      <td>12.043478</td>\n",
       "      <td>10.0</td>\n",
       "      <td>1.204348</td>\n",
       "    </tr>\n",
       "    <tr>\n",
       "      <td>toy_terrier</td>\n",
       "      <td>0.776400</td>\n",
       "      <td>True</td>\n",
       "      <td>12.000000</td>\n",
       "      <td>10.0</td>\n",
       "      <td>1.200000</td>\n",
       "    </tr>\n",
       "  </tbody>\n",
       "</table>\n",
       "</div>"
      ],
      "text/plain": [
       "                         prediction_confidence_1  prediction_is_a_dog_1  \\\n",
       "breed_prediction_1                                                        \n",
       "clumber                  0.946718                 True                    \n",
       "Gordon_setter            0.940724                 True                    \n",
       "black-and-tan_coonhound  0.854861                 True                    \n",
       "Afghan_hound             0.903712                 True                    \n",
       "curly-coated_retriever   0.733256                 True                    \n",
       "briard                   0.982755                 True                    \n",
       "Leonberg                 0.927021                 True                    \n",
       "Siberian_husky           0.786770                 True                    \n",
       "Samoyed                  0.947903                 True                    \n",
       "toy_terrier              0.776400                 True                    \n",
       "\n",
       "                         rating_numerator  rating_denominator    rating  \n",
       "breed_prediction_1                                                       \n",
       "clumber                  27.000000         10.0                2.700000  \n",
       "Gordon_setter            14.000000         10.0                1.400000  \n",
       "black-and-tan_coonhound  14.000000         10.0                1.400000  \n",
       "Afghan_hound             13.000000         10.0                1.300000  \n",
       "curly-coated_retriever   13.000000         10.0                1.300000  \n",
       "briard                   13.000000         10.0                1.300000  \n",
       "Leonberg                 13.000000         10.0                1.300000  \n",
       "Siberian_husky           12.200000         10.0                1.220000  \n",
       "Samoyed                  12.043478         10.0                1.204348  \n",
       "toy_terrier              12.000000         10.0                1.200000  "
      ]
     },
     "metadata": {},
     "output_type": "display_data"
    },
    {
     "data": {
      "text/plain": [
       "Text(0, 0.5, 'Rating')"
      ]
     },
     "execution_count": 128,
     "metadata": {},
     "output_type": "execute_result"
    },
    {
     "data": {
      "image/png": "[encoded data removed]",
      "text/plain": [
       "<Figure size 432x288 with 1 Axes>"
      ]
     },
     "metadata": {
      "needs_background": "light"
     },
     "output_type": "display_data"
    }
   ],
   "source": [
    "#Selecting the columns used for the analysis\n",
    "df_reactions_breed = pd.concat([twitter_archive_master['breed_prediction_1'],\n",
    "                                twitter_archive_master['prediction_confidence_1'],\n",
    "                                twitter_archive_master['prediction_is_a_dog_1'],\n",
    "                                twitter_archive_master['rating_numerator'], \n",
    "                                twitter_archive_master['rating_denominator']],\n",
    "                               axis=1)\n",
    "\n",
    "#Rating calculation\n",
    "df_reactions_breed['rating'] = df_reactions_breed['rating_numerator'].astype(int) / df_reactions_breed['rating_denominator'].astype(int)\n",
    "\n",
    "#Data filtering\n",
    "df_reactions_breed = df_reactions_breed[(df_reactions_breed['prediction_is_a_dog_1'] == True) & (df_reactions_breed['prediction_confidence_1'] >= 0.7)]\n",
    "\n",
    "#Data grouping and sorting\n",
    "df_reactions_breed = df_reactions_breed.groupby(['breed_prediction_1']).mean()\n",
    "\n",
    "df_reactions_breed = df_reactions_breed.sort_values(by=['rating'], ascending = False)[:10]\n",
    "\n",
    "display(df_reactions_breed)\n",
    "\n",
    "#Data visualization\n",
    "df_reactions_breed['breed_prediction_1'] = df_reactions_breed.index\n",
    "\n",
    "df_reactions_breed.plot(x='breed_prediction_1', y='rating', kind='bar', title=\"Mean Rating by Dog Breed\", edgecolor='black',\n",
    "                        color=['red', 'purple','grey' ,'yellow', 'pink','black', 'white', 'green', 'blue', 'cyan'])\n",
    "\n",
    "plt.legend('', frameon=False)\n",
    "\n",
    "plt.xlabel('Dog Breed')\n",
    "\n",
    "plt.ylabel('Rating')"
   ]
  },
  {
   "cell_type": "markdown",
   "metadata": {},
   "source": [
    "As we can see, the clumber spaniel is the breed with higher ratings, followed by black and tan coonhound. In the third place there are 4 breeds: afghan hound, curly-coated retriever, briard, and leonberg. The fourth, fifth and sixth place are siberian huskies, samoyed and toy terrier."
   ]
  }
 ],
 "metadata": {
  "kernelspec": {
   "display_name": "Python 3",
   "language": "python",
   "name": "python3"
  },
  "language_info": {
   "codemirror_mode": {
    "name": "ipython",
    "version": 3
   },
   "file_extension": ".py",
   "mimetype": "text/x-python",
   "name": "python",
   "nbconvert_exporter": "python",
   "pygments_lexer": "ipython3",
   "version": "3.7.4"
  }
 },
 "nbformat": 4,
 "nbformat_minor": 4
}
